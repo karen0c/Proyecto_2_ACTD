{
 "cells": [
  {
   "cell_type": "markdown",
   "id": "cd5bd313",
   "metadata": {},
   "source": [
    "## Proy 2\n"
   ]
  },
  {
   "cell_type": "markdown",
   "id": "0e25119d",
   "metadata": {},
   "source": [
    "Importación y transformación de los datos"
   ]
  },
  {
   "cell_type": "code",
   "execution_count": 1,
   "id": "6db76a91",
   "metadata": {},
   "outputs": [
    {
     "name": "stdout",
     "output_type": "stream",
     "text": [
      "   age  sex   cp  trestbps  chol  fbs  restecg  thalach  exang  oldpeak  \\\n",
      "0  4.0  1.0  1.0       3.0   2.0  1.0      2.0      3.0    0.0      3.0   \n",
      "1  4.0  1.0  4.0       4.0   3.0  0.0      2.0      1.0    1.0      2.0   \n",
      "2  4.0  1.0  4.0       1.0   2.0  0.0      2.0      2.0    1.0      3.0   \n",
      "3  1.0  1.0  3.0       2.0   3.0  0.0      0.0      4.0    0.0      3.0   \n",
      "4  2.0  0.0  2.0       2.0   2.0  0.0      2.0      4.0    0.0      2.0   \n",
      "5  3.0  1.0  2.0       1.0   2.0  0.0      0.0      4.0    0.0      1.0   \n",
      "6  4.0  0.0  4.0       3.0   3.0  0.0      2.0      4.0    0.0      3.0   \n",
      "7  3.0  0.0  4.0       1.0   3.0  0.0      0.0      4.0    1.0      1.0   \n",
      "8  4.0  1.0  4.0       2.0   3.0  0.0      2.0      3.0    0.0      2.0   \n",
      "9  3.0  1.0  4.0       3.0   2.0  1.0      2.0      3.0    1.0      3.0   \n",
      "\n",
      "   slope   ca  thal  num  \n",
      "0    3.0  0.0   6.0    0  \n",
      "1    2.0  3.0   3.0    2  \n",
      "2    2.0  2.0   7.0    1  \n",
      "3    3.0  0.0   3.0    0  \n",
      "4    1.0  0.0   3.0    0  \n",
      "5    1.0  0.0   3.0    0  \n",
      "6    3.0  2.0   3.0    3  \n",
      "7    1.0  0.0   3.0    0  \n",
      "8    2.0  1.0   7.0    2  \n",
      "9    3.0  0.0   7.0    1  \n"
     ]
    }
   ],
   "source": [
    "import pandas as pd\n",
    "\n",
    "columnas = [\"age\",\"sex\",\"cp\",\"trestbps\",\"chol\",\"fbs\",\"restecg\",\"thalach\",\"exang\",\"oldpeak\",\"slope\",\"ca\",\"thal\",\"num\"]\n",
    "datos_iniciales = pd.read_csv('https://raw.githubusercontent.com/karen0c/Proyecto_1_ACTD/main/processed.cleveland.data',header=None, names=columnas, na_values=\"?\")\n",
    "\n",
    "datos_iniciales = datos_iniciales.dropna().reset_index(drop=True) #elimina filas con valores faltantes\n",
    "#print(datos_iniciales.head())\n",
    "#print(datos_iniciales.tail())\n",
    "\n",
    "# crear unos nuevos datos donde guardaremos la información con los datos discretizados\n",
    "datos = datos_iniciales\n",
    "\n",
    "for i in range(0,297):\n",
    "  if datos_iniciales.loc[i, 'age'] <= 40:\n",
    "    datos.loc[i, 'age'] = 1\n",
    "  elif datos_iniciales.loc[i, 'age'] > 40 and datos_iniciales.loc[i, 'age'] <= 50:\n",
    "    datos.loc[i, 'age'] = 2\n",
    "  elif datos_iniciales.loc[i, 'age'] > 50 and datos_iniciales.loc[i, 'age'] <= 60:\n",
    "    datos.loc[i, 'age'] = 3\n",
    "  else:\n",
    "    datos.loc[i, 'age'] = 4\n",
    "\n",
    "for i in range(0,297):\n",
    "  if datos_iniciales.loc[i, \"trestbps\"] <= 120:\n",
    "    datos.loc[i, \"trestbps\"] = 1\n",
    "  elif datos_iniciales.loc[i, \"trestbps\"] > 120 and datos_iniciales.loc[i, \"trestbps\"] <= 139:\n",
    "    datos.loc[i, \"trestbps\"] = 2\n",
    "  elif datos_iniciales.loc[i, \"trestbps\"] >= 140 and datos_iniciales.loc[i, \"trestbps\"] <= 159:\n",
    "    datos.loc[i, \"trestbps\"] = 3\n",
    "  elif datos_iniciales.loc[i, \"trestbps\"] >= 160 and datos_iniciales.loc[i, \"trestbps\"] <= 179:\n",
    "    datos.loc[i, \"trestbps\"] = 4\n",
    "  else:\n",
    "    datos.loc[i, \"trestbps\"] = 5\n",
    "    \n",
    "for i in range(0,297):\n",
    "  if datos_iniciales.loc[i, \"chol\"] <= 200:\n",
    "    datos.loc[i, \"chol\"] = 1\n",
    "  elif datos_iniciales.loc[i, \"chol\"] > 200 and datos_iniciales.loc[i, \"chol\"] < 240:\n",
    "    datos.loc[i, \"chol\"] = 2\n",
    "  else:\n",
    "    datos.loc[i, \"chol\"] = 3\n",
    "    \n",
    "for i in range(0,297):\n",
    "  if datos_iniciales.loc[i, \"thalach\"] <= 120:\n",
    "    datos.loc[i, \"thalach\"] = 1\n",
    "  elif datos_iniciales.loc[i, \"thalach\"] > 120 and datos_iniciales.loc[i, \"thalach\"] <= 140:\n",
    "    datos.loc[i, \"thalach\"] = 2\n",
    "  elif datos_iniciales.loc[i, \"thalach\"] > 140 and datos_iniciales.loc[i, \"thalach\"] < 160:\n",
    "    datos.loc[i, \"thalach\"] = 3\n",
    "  else:\n",
    "    datos.loc[i, \"thalach\"] = 4\n",
    "    \n",
    "for i in range(0,297):\n",
    "  if datos_iniciales.loc[i, \"oldpeak\"] <= 1:\n",
    "    datos.loc[i, \"oldpeak\"] = 1\n",
    "  elif datos_iniciales.loc[i, \"oldpeak\"] > 1 and datos_iniciales.loc[i, \"oldpeak\"] <= 2:\n",
    "    datos.loc[i, \"oldpeak\"] = 2\n",
    "  else:\n",
    "    datos.loc[i, \"oldpeak\"] = 3\n",
    "\n",
    "#USAR SOLO EL 80% DE LOS DATOS, PARA QUE SIRVAN COMO ENTRENAMIENTO, LO DEMÁS SE USARÁ COMO TEST\n",
    "sep = int(0.8*len(datos))\n",
    "datos_train = datos[:sep]\n",
    "print(datos_train.head(10))\n"
   ]
  },
  {
   "cell_type": "code",
   "execution_count": 2,
   "id": "9361b3b3",
   "metadata": {},
   "outputs": [
    {
     "name": "stdout",
     "output_type": "stream",
     "text": [
      "237\n"
     ]
    }
   ],
   "source": [
    "print(sep)"
   ]
  },
  {
   "cell_type": "code",
   "execution_count": 3,
   "id": "96bfeb5c",
   "metadata": {},
   "outputs": [
    {
     "name": "stdout",
     "output_type": "stream",
     "text": [
      "     age  sex   cp  trestbps  chol  fbs  restecg  thalach  exang  oldpeak  \\\n",
      "238  2.0  0.0  2.0       2.0   3.0  0.0      0.0      4.0    0.0      1.0   \n",
      "239  2.0  0.0  4.0       2.0   3.0  0.0      0.0      4.0    0.0      1.0   \n",
      "240  4.0  1.0  1.0       2.0   2.0  0.0      0.0      3.0    0.0      3.0   \n",
      "241  3.0  0.0  3.0       1.0   1.0  1.0      0.0      1.0    0.0      1.0   \n",
      "242  4.0  1.0  4.0       1.0   2.0  0.0      0.0      1.0    0.0      1.0   \n",
      "243  3.0  1.0  4.0       1.0   2.0  0.0      0.0      3.0    0.0      1.0   \n",
      "244  2.0  1.0  4.0       1.0   3.0  0.0      2.0      1.0    1.0      1.0   \n",
      "245  3.0  1.0  4.0       2.0   2.0  0.0      0.0      4.0    0.0      1.0   \n",
      "246  4.0  1.0  2.0       2.0   2.0  1.0      2.0      2.0    0.0      1.0   \n",
      "247  3.0  1.0  4.0       1.0   2.0  0.0      0.0      2.0    1.0      2.0   \n",
      "\n",
      "     slope   ca  thal  num  \n",
      "238    1.0  0.0   3.0    0  \n",
      "239    1.0  0.0   3.0    0  \n",
      "240    2.0  2.0   3.0    2  \n",
      "241    1.0  0.0   3.0    0  \n",
      "242    2.0  0.0   3.0    2  \n",
      "243    1.0  1.0   7.0    2  \n",
      "244    2.0  1.0   3.0    1  \n",
      "245    1.0  2.0   7.0    3  \n",
      "246    1.0  0.0   3.0    0  \n",
      "247    2.0  0.0   6.0    0  \n"
     ]
    }
   ],
   "source": [
    "datos_prueba = datos[sep+1:]\n",
    "print(datos_prueba.head(10))"
   ]
  },
  {
   "cell_type": "markdown",
   "id": "7de57558",
   "metadata": {},
   "source": [
    "Estime la estructura del modelo usando el método por restricciones"
   ]
  },
  {
   "cell_type": "code",
   "execution_count": 4,
   "id": "18e78869",
   "metadata": {},
   "outputs": [
    {
     "data": {
      "application/vnd.jupyter.widget-view+json": {
       "model_id": "2264994785f14f90a873c9923bf2c2c1",
       "version_major": 2,
       "version_minor": 0
      },
      "text/plain": [
       "  0%|          | 0/4 [00:00<?, ?it/s]"
      ]
     },
     "metadata": {},
     "output_type": "display_data"
    },
    {
     "name": "stdout",
     "output_type": "stream",
     "text": [
      "\n",
      "['slope', 'oldpeak', 'age', 'ca', 'thal', 'num', 'sex']\n",
      "[('slope', 'oldpeak'), ('age', 'ca'), ('thal', 'num'), ('sex', 'thal')]\n"
     ]
    }
   ],
   "source": [
    "from pgmpy.estimators import PC\n",
    "est = PC(data=datos_train)\n",
    "\n",
    "estimated_model = est.estimate(variant=\"stable\", max_cond_vars=4)\n",
    "print(estimated_model)\n",
    "print(estimated_model.nodes())\n",
    "print(estimated_model.edges())"
   ]
  },
  {
   "cell_type": "markdown",
   "id": "12147d69",
   "metadata": {},
   "source": [
    "Se convierte el objeto DAG obtenido con el anterior procedimiento a una red bayesiana y se usa el estimador de máxima verosimilitud para estimar los parámetros de la red."
   ]
  },
  {
   "cell_type": "code",
   "execution_count": 5,
   "id": "a780e20e",
   "metadata": {},
   "outputs": [
    {
     "name": "stdout",
     "output_type": "stream",
     "text": [
      "+------------+-----------+\n",
      "| slope(1.0) | 0.440678  |\n",
      "+------------+-----------+\n",
      "| slope(2.0) | 0.508475  |\n",
      "+------------+-----------+\n",
      "| slope(3.0) | 0.0508475 |\n",
      "+------------+-----------+\n",
      "+--------------+---------------------+--------------------+--------------------+\n",
      "| slope        | slope(1.0)          | slope(2.0)         | slope(3.0)         |\n",
      "+--------------+---------------------+--------------------+--------------------+\n",
      "| oldpeak(1.0) | 0.8461538461538461  | 0.4666666666666667 | 0.3333333333333333 |\n",
      "+--------------+---------------------+--------------------+--------------------+\n",
      "| oldpeak(2.0) | 0.07692307692307693 | 0.3333333333333333 | 0.0                |\n",
      "+--------------+---------------------+--------------------+--------------------+\n",
      "| oldpeak(3.0) | 0.07692307692307693 | 0.2                | 0.6666666666666666 |\n",
      "+--------------+---------------------+--------------------+--------------------+\n",
      "+----------+-----------+\n",
      "| age(1.0) | 0.0508475 |\n",
      "+----------+-----------+\n",
      "| age(2.0) | 0.237288  |\n",
      "+----------+-----------+\n",
      "| age(3.0) | 0.40678   |\n",
      "+----------+-----------+\n",
      "| age(4.0) | 0.305085  |\n",
      "+----------+-----------+\n",
      "+---------+----------+---------------------+----------------------+--------------------+\n",
      "| age     | age(1.0) | age(2.0)            | age(3.0)             | age(4.0)           |\n",
      "+---------+----------+---------------------+----------------------+--------------------+\n",
      "| ca(0.0) | 1.0      | 0.7857142857142857  | 0.4166666666666667   | 0.5                |\n",
      "+---------+----------+---------------------+----------------------+--------------------+\n",
      "| ca(1.0) | 0.0      | 0.14285714285714285 | 0.3333333333333333   | 0.2777777777777778 |\n",
      "+---------+----------+---------------------+----------------------+--------------------+\n",
      "| ca(2.0) | 0.0      | 0.07142857142857142 | 0.20833333333333334  | 0.2222222222222222 |\n",
      "+---------+----------+---------------------+----------------------+--------------------+\n",
      "| ca(3.0) | 0.0      | 0.0                 | 0.041666666666666664 | 0.0                |\n",
      "+---------+----------+---------------------+----------------------+--------------------+\n",
      "+-----------+----------+---------------------+\n",
      "| sex       | sex(0.0) | sex(1.0)            |\n",
      "+-----------+----------+---------------------+\n",
      "| thal(3.0) | 0.85     | 0.38461538461538464 |\n",
      "+-----------+----------+---------------------+\n",
      "| thal(6.0) | 0.05     | 0.1794871794871795  |\n",
      "+-----------+----------+---------------------+\n",
      "| thal(7.0) | 0.1      | 0.4358974358974359  |\n",
      "+-----------+----------+---------------------+\n",
      "+--------+-----------+-----------+---------------------+\n",
      "| thal   | thal(3.0) | thal(6.0) | thal(7.0)           |\n",
      "+--------+-----------+-----------+---------------------+\n",
      "| num(0) | 0.71875   | 0.25      | 0.15789473684210525 |\n",
      "+--------+-----------+-----------+---------------------+\n",
      "| num(1) | 0.15625   | 0.0       | 0.3684210526315789  |\n",
      "+--------+-----------+-----------+---------------------+\n",
      "| num(2) | 0.0625    | 0.5       | 0.3157894736842105  |\n",
      "+--------+-----------+-----------+---------------------+\n",
      "| num(3) | 0.03125   | 0.125     | 0.15789473684210525 |\n",
      "+--------+-----------+-----------+---------------------+\n",
      "| num(4) | 0.03125   | 0.125     | 0.0                 |\n",
      "+--------+-----------+-----------+---------------------+\n",
      "+----------+----------+\n",
      "| sex(0.0) | 0.338983 |\n",
      "+----------+----------+\n",
      "| sex(1.0) | 0.661017 |\n",
      "+----------+----------+\n"
     ]
    }
   ],
   "source": [
    "from pgmpy.models import BayesianNetwork\n",
    "from pgmpy.estimators import MaximumLikelihoodEstimator\n",
    "\n",
    "estimated_model = BayesianNetwork(estimated_model)\n",
    "estimated_model.fit(data=datos_prueba, estimator = MaximumLikelihoodEstimator) \n",
    "for i in estimated_model.nodes():\n",
    "    print(estimated_model.get_cpds(i))"
   ]
  },
  {
   "cell_type": "markdown",
   "id": "f51a2965",
   "metadata": {},
   "source": [
    "### Predicción"
   ]
  },
  {
   "cell_type": "code",
   "execution_count": 6,
   "id": "b8795326",
   "metadata": {},
   "outputs": [],
   "source": [
    "# Importar librerías necesarias\n",
    "from pgmpy.inference import VariableElimination"
   ]
  },
  {
   "cell_type": "code",
   "execution_count": 7,
   "id": "67030041",
   "metadata": {},
   "outputs": [
    {
     "name": "stdout",
     "output_type": "stream",
     "text": [
      "     slope  oldpeak  age   ca  thal  num  sex\n",
      "238    1.0      1.0  2.0  0.0   3.0    0  0.0\n",
      "239    1.0      1.0  2.0  0.0   3.0    0  0.0\n",
      "240    2.0      3.0  4.0  2.0   3.0    2  1.0\n",
      "241    1.0      1.0  3.0  0.0   3.0    0  0.0\n",
      "242    2.0      1.0  4.0  0.0   3.0    2  1.0\n"
     ]
    }
   ],
   "source": [
    "# Crear una lista vacía para contener las variables del modelo\n",
    "variables_modelo = []\n",
    "\n",
    "# Recorrer cada variable del modelo y agregarla a la lista si está presente en la base de datos original\n",
    "for nodo in estimated_model.nodes():\n",
    "    if nodo in datos_prueba.columns:\n",
    "        variables_modelo.append(datos_prueba[nodo])\n",
    "\n",
    "# Concatenar todas las variables en una sola base de datos\n",
    "nueva_base = pd.concat(variables_modelo, axis=1)\n",
    "print(nueva_base.head())\n"
   ]
  },
  {
   "cell_type": "code",
   "execution_count": 8,
   "id": "8a57a781",
   "metadata": {},
   "outputs": [],
   "source": [
    "# conversión de respuesta de datos de prueba a una variable binaria\n",
    "# 0-> no hay enfermedad; 1-> hay presencia de enfermedad\n",
    "bin_test = []\n",
    "\n",
    "for i in nueva_base.index:\n",
    "  if nueva_base.loc[i, \"num\"] == 0:\n",
    "    bin_test.append(0)      \n",
    "  else:\n",
    "    bin_test.append(1)      "
   ]
  },
  {
   "cell_type": "code",
   "execution_count": 9,
   "id": "5476b9b8",
   "metadata": {},
   "outputs": [
    {
     "name": "stdout",
     "output_type": "stream",
     "text": [
      "[0, 0, 1, 0, 1, 1, 1, 1, 0, 0, 1, 0, 0, 0, 0, 0, 0, 0, 1, 0, 1, 0, 0, 1, 1, 1, 1, 0, 1, 0, 1, 0, 1, 0, 0, 0, 1, 0, 1, 0, 1, 0, 1, 1, 1, 0, 0, 1, 0, 1, 1, 1, 0, 1, 1, 1, 1, 1, 1]\n"
     ]
    }
   ],
   "source": [
    "print(bin_test)"
   ]
  },
  {
   "cell_type": "code",
   "execution_count": 10,
   "id": "0df2532f",
   "metadata": {},
   "outputs": [],
   "source": [
    "# Crear un objeto de inferencia basado en el modelo entrenado\n",
    "infer = VariableElimination(estimated_model)\n",
    "bin_modelo = []\n",
    "# Calcular las predicciones para cada fila en los datos de prueba\n",
    "for i in (nueva_base.index):\n",
    "    evidence = nueva_base.loc[i].to_dict()\n",
    "    evidence.pop('num', None)  # Elimina la clave 'num' del diccionario si está presente\n",
    "    prediccion = infer.query(['num'], evidence=evidence)\n",
    "    #print(f'Predicción para la fila {i}: {prediccion.values}')\n",
    "\n",
    "    \n",
    "    posicion = -1\n",
    "    probabilidad = -1\n",
    "    for j in range(0,5):\n",
    "        if prediccion.values[estimated_model.get_cpds(\"num\").state_names[\"num\"].index(j)]>probabilidad:\n",
    "            probabilidad = prediccion.values[estimated_model.get_cpds(\"num\").state_names[\"num\"].index(j)]\n",
    "            posicion = j\n",
    "    \n",
    "    if posicion == 0:\n",
    "        bin_modelo.append(0)\n",
    "    else:\n",
    "        bin_modelo.append(1)\n"
   ]
  },
  {
   "cell_type": "code",
   "execution_count": 11,
   "id": "bf098dbd",
   "metadata": {},
   "outputs": [
    {
     "name": "stdout",
     "output_type": "stream",
     "text": [
      "[0, 0, 0, 0, 0, 1, 0, 1, 0, 1, 1, 1, 0, 0, 0, 0, 0, 0, 1, 0, 0, 0, 0, 0, 1, 1, 1, 0, 1, 1, 1, 0, 0, 1, 0, 0, 0, 0, 1, 0, 1, 0, 1, 1, 1, 1, 0, 1, 0, 1, 1, 0, 0, 1, 1, 1, 1, 1, 0]\n"
     ]
    }
   ],
   "source": [
    "print(bin_modelo)"
   ]
  },
  {
   "cell_type": "code",
   "execution_count": 12,
   "id": "b2950141",
   "metadata": {},
   "outputs": [],
   "source": [
    "verd_positivo = 0\n",
    "verd_negativo = 0\n",
    "falso_positivo = 0\n",
    "falso_negativo = 0\n",
    "\n",
    "#contar el número de verdaderos positivos y negativos            \n",
    "for i in range(len(nueva_base)):\n",
    "    if bin_test[i]==bin_modelo[i]:\n",
    "        if bin_modelo[i]==0:\n",
    "            verd_positivo = verd_positivo+1\n",
    "        else:\n",
    "            verd_negativo = verd_negativo+1\n",
    "    else:\n",
    "        if bin_modelo[i]==0:\n",
    "            falso_positivo = falso_positivo+1\n",
    "        else:\n",
    "            falso_negativo = falso_negativo+1\n"
   ]
  },
  {
   "cell_type": "code",
   "execution_count": 13,
   "id": "ceba5a9b",
   "metadata": {},
   "outputs": [
    {
     "name": "stdout",
     "output_type": "stream",
     "text": [
      "23 22 9 5\n"
     ]
    }
   ],
   "source": [
    "print(verd_positivo, verd_negativo, falso_positivo, falso_negativo)"
   ]
  },
  {
   "cell_type": "markdown",
   "id": "590ad33a",
   "metadata": {},
   "source": [
    "## Estime la estructura del modelo usando el método por puntajes"
   ]
  },
  {
   "cell_type": "code",
   "execution_count": 14,
   "id": "949be6f2",
   "metadata": {},
   "outputs": [
    {
     "data": {
      "application/vnd.jupyter.widget-view+json": {
       "model_id": "809208f2b3c24816ae02010410def1c4",
       "version_major": 2,
       "version_minor": 0
      },
      "text/plain": [
       "  0%|          | 0/10000 [00:00<?, ?it/s]"
      ]
     },
     "metadata": {},
     "output_type": "display_data"
    },
    {
     "name": "stdout",
     "output_type": "stream",
     "text": [
      "\n",
      "['age', 'sex', 'cp', 'trestbps', 'chol', 'fbs', 'restecg', 'thalach', 'exang', 'oldpeak', 'slope', 'ca', 'thal', 'num']\n",
      "[('age', 'chol'), ('sex', 'chol'), ('fbs', 'ca'), ('fbs', 'thalach'), ('restecg', 'trestbps'), ('restecg', 'age'), ('thalach', 'slope'), ('thalach', 'chol'), ('exang', 'cp'), ('exang', 'thal'), ('exang', 'thalach'), ('oldpeak', 'thalach'), ('oldpeak', 'exang'), ('slope', 'chol'), ('ca', 'num'), ('thal', 'trestbps'), ('thal', 'sex'), ('num', 'thal'), ('num', 'oldpeak'), ('num', 'exang')]\n"
     ]
    }
   ],
   "source": [
    "from pgmpy.estimators import HillClimbSearch\n",
    "from pgmpy.estimators import K2Score\n",
    "\n",
    "scoring_method = K2Score(data=datos_prueba)\n",
    "esth = HillClimbSearch(data=datos_prueba)\n",
    "estimated_modelK2 = esth.estimate(\n",
    "    scoring_method=scoring_method, max_indegree=4, max_iter=int(1e4)\n",
    ")\n",
    "print(estimated_modelK2)\n",
    "print(estimated_modelK2.nodes())\n",
    "print(estimated_modelK2.edges())"
   ]
  },
  {
   "cell_type": "code",
   "execution_count": 15,
   "id": "9bb2e04e",
   "metadata": {},
   "outputs": [
    {
     "name": "stdout",
     "output_type": "stream",
     "text": [
      "-791.5062371001736\n"
     ]
    }
   ],
   "source": [
    "print(scoring_method.score(estimated_modelK2))"
   ]
  },
  {
   "cell_type": "code",
   "execution_count": 16,
   "id": "cd06bb86",
   "metadata": {},
   "outputs": [
    {
     "name": "stdout",
     "output_type": "stream",
     "text": [
      "\n",
      "['age', 'sex', 'cp', 'trestbps', 'chol', 'fbs', 'restecg', 'thalach', 'exang', 'oldpeak', 'slope', 'ca', 'thal', 'num']\n",
      "[('age', 'chol'), ('sex', 'chol'), ('fbs', 'ca'), ('fbs', 'thalach'), ('restecg', 'trestbps'), ('restecg', 'age'), ('thalach', 'slope'), ('thalach', 'chol'), ('exang', 'cp'), ('exang', 'thal'), ('exang', 'thalach'), ('oldpeak', 'thalach'), ('oldpeak', 'exang'), ('slope', 'chol'), ('ca', 'num'), ('thal', 'trestbps'), ('thal', 'sex'), ('num', 'thal'), ('num', 'oldpeak'), ('num', 'exang')]\n"
     ]
    }
   ],
   "source": [
    "estimated_modelK2 = BayesianNetwork(estimated_modelK2)\n",
    "estimated_modelK2.fit(data=datos_prueba, estimator = MaximumLikelihoodEstimator) \n",
    "\n",
    "print(estimated_modelK2)\n",
    "print(estimated_modelK2.nodes())\n",
    "print(estimated_modelK2.edges())\n",
    "\n",
    "#for i in estimated_modelK2.nodes():\n",
    "    #print(estimated_modelK2.get_cpds(i))"
   ]
  },
  {
   "cell_type": "markdown",
   "id": "dede34d1",
   "metadata": {},
   "source": [
    "Se imprime el resultado del puntaje obtenido"
   ]
  },
  {
   "cell_type": "code",
   "execution_count": 17,
   "id": "198622a1",
   "metadata": {},
   "outputs": [
    {
     "name": "stdout",
     "output_type": "stream",
     "text": [
      "-791.5062371001736\n"
     ]
    }
   ],
   "source": [
    "print(scoring_method.score(estimated_modelK2))"
   ]
  },
  {
   "cell_type": "code",
   "execution_count": 18,
   "id": "54e484d4",
   "metadata": {},
   "outputs": [
    {
     "name": "stdout",
     "output_type": "stream",
     "text": [
      "     age  sex   cp  trestbps  chol  fbs  restecg  thalach  exang  oldpeak  \\\n",
      "238  2.0  0.0  2.0       2.0   3.0  0.0      0.0      4.0    0.0      1.0   \n",
      "239  2.0  0.0  4.0       2.0   3.0  0.0      0.0      4.0    0.0      1.0   \n",
      "240  4.0  1.0  1.0       2.0   2.0  0.0      0.0      3.0    0.0      3.0   \n",
      "241  3.0  0.0  3.0       1.0   1.0  1.0      0.0      1.0    0.0      1.0   \n",
      "242  4.0  1.0  4.0       1.0   2.0  0.0      0.0      1.0    0.0      1.0   \n",
      "\n",
      "     slope   ca  thal  num  \n",
      "238    1.0  0.0   3.0    0  \n",
      "239    1.0  0.0   3.0    0  \n",
      "240    2.0  2.0   3.0    2  \n",
      "241    1.0  0.0   3.0    0  \n",
      "242    2.0  0.0   3.0    2  \n"
     ]
    }
   ],
   "source": [
    "# Crear una lista vacía para contener las variables del modelo\n",
    "variables_modeloK2 = []\n",
    "\n",
    "# Recorrer cada variable del modelo y agregarla a la lista si está presente en la base de datos original\n",
    "for nodo in estimated_modelK2.nodes():\n",
    "    if nodo in datos_prueba.columns:\n",
    "        variables_modeloK2.append(datos_prueba[nodo])\n",
    "\n",
    "# Concatenar todas las variables en una sola base de datos\n",
    "nueva_baseK2 = pd.concat(variables_modeloK2, axis=1)\n",
    "print(nueva_baseK2.head())"
   ]
  },
  {
   "cell_type": "code",
   "execution_count": 19,
   "id": "77fbc8c0",
   "metadata": {},
   "outputs": [
    {
     "name": "stdout",
     "output_type": "stream",
     "text": [
      "Predicción para la fila 238: [0.9205114  0.06503613 0.01445247 0.         0.        ]\n",
      "Predicción para la fila 239: [0.9205114  0.06503613 0.01445247 0.         0.        ]\n",
      "Predicción para la fila 240: [0.07048008 0.         0.92951992 0.         0.        ]\n",
      "Predicción para la fila 241: [0.9205114  0.06503613 0.01445247 0.         0.        ]\n",
      "Predicción para la fila 242: [0.9205114  0.06503613 0.01445247 0.         0.        ]\n",
      "Predicción para la fila 243: [0.06566946 0.59284933 0.18971178 0.15176943 0.        ]\n",
      "Predicción para la fila 244: [0. 1. 0. 0. 0.]\n",
      "Predicción para la fila 245: [0.03616637 0.19590115 0.39180229 0.3761302  0.        ]\n",
      "Predicción para la fila 246: [0.9205114  0.06503613 0.01445247 0.         0.        ]\n",
      "Predicción para la fila 247: [0.63157895 0.         0.36842105 0.         0.        ]\n",
      "Predicción para la fila 248: [0.05952873 0.94047127 0.         0.         0.        ]\n",
      "Predicción para la fila 249: [0.07894737 0.92105263 0.         0.         0.        ]\n",
      "Predicción para la fila 250: [0.9205114  0.06503613 0.01445247 0.         0.        ]\n",
      "Predicción para la fila 251: [0.88996372 0.11003628 0.         0.         0.        ]\n",
      "Predicción para la fila 252: [0.9205114  0.06503613 0.01445247 0.         0.        ]\n",
      "Predicción para la fila 253: [0.35524284 0.10039471 0.22309937 0.32126309 0.        ]\n",
      "Predicción para la fila 254: [0.88996372 0.11003628 0.         0.         0.        ]\n",
      "Predicción para la fila 255: [0.9205114  0.06503613 0.01445247 0.         0.        ]\n",
      "Predicción para la fila 256: [0.38095238 0.51587302 0.1031746  0.         0.        ]\n",
      "Predicción para la fila 257: [0.54364002 0.25606233 0.09104438 0.10925326 0.        ]\n",
      "Predicción para la fila 258: [0.35524284 0.10039471 0.22309937 0.32126309 0.        ]\n",
      "Predicción para la fila 259: [0.9205114  0.06503613 0.01445247 0.         0.        ]\n",
      "Predicción para la fila 260: [0.9205114  0.06503613 0.01445247 0.         0.        ]\n",
      "Predicción para la fila 261: [0. 0. 0. 0. 1.]\n",
      "Predicción para la fila 262: [0.63157895 0.         0.36842105 0.         0.        ]\n",
      "Predicción para la fila 263: [0.00614334 0.         0.24846416 0.         0.74539249]\n",
      "Predicción para la fila 264: [0.38095238 0.51587302 0.1031746  0.         0.        ]\n",
      "Predicción para la fila 265: [0.9205114  0.06503613 0.01445247 0.         0.        ]\n",
      "Predicción para la fila 266: [0.0383959  0.14931741 0.23890785 0.57337884 0.        ]\n",
      "Predicción para la fila 267: [0.20869565 0.         0.79130435 0.         0.        ]\n",
      "Predicción para la fila 268: [0.01065341 0.02485795 0.24857955 0.71590909 0.        ]\n",
      "Predicción para la fila 269: [0.88996372 0.11003628 0.         0.         0.        ]\n",
      "Predicción para la fila 270: [0.35524284 0.10039471 0.22309937 0.32126309 0.        ]\n",
      "Predicción para la fila 271: [0.38095238 0.51587302 0.1031746  0.         0.        ]\n",
      "Predicción para la fila 272: [0.54364002 0.25606233 0.09104438 0.10925326 0.        ]\n",
      "Predicción para la fila 273: [0.9205114  0.06503613 0.01445247 0.         0.        ]\n",
      "Predicción para la fila 274: [0.54364002 0.25606233 0.09104438 0.10925326 0.        ]\n",
      "Predicción para la fila 275: [0.9205114  0.06503613 0.01445247 0.         0.        ]\n",
      "Predicción para la fila 276: [0. 0. 1. 0. 0.]\n",
      "Predicción para la fila 277: [0.9205114  0.06503613 0.01445247 0.         0.        ]\n",
      "Predicción para la fila 278: [0.0383959  0.14931741 0.23890785 0.57337884 0.        ]\n",
      "Predicción para la fila 279: [0.9205114  0.06503613 0.01445247 0.         0.        ]\n",
      "Predicción para la fila 280: [0.06566946 0.59284933 0.18971178 0.15176943 0.        ]\n",
      "Predicción para la fila 281: [0. 0. 0. 0. 1.]\n",
      "Predicción para la fila 282: [0. 0. 1. 0. 0.]\n",
      "Predicción para la fila 283: [0.38095238 0.51587302 0.1031746  0.         0.        ]\n",
      "Predicción para la fila 284: [0.9205114  0.06503613 0.01445247 0.         0.        ]\n",
      "Predicción para la fila 285: [0.38095238 0.51587302 0.1031746  0.         0.        ]\n",
      "Predicción para la fila 286: [0.88996372 0.11003628 0.         0.         0.        ]\n",
      "Predicción para la fila 287: [0. 0. 1. 0. 0.]\n",
      "Predicción para la fila 288: [0. 0. 1. 0. 0.]\n",
      "Predicción para la fila 289: [0. 1. 0. 0. 0.]\n",
      "Predicción para la fila 290: [0.9205114  0.06503613 0.01445247 0.         0.        ]\n",
      "Predicción para la fila 291: [0.03445636 0.         0.24885145 0.71669219 0.        ]\n",
      "Predicción para la fila 292: [0.36363636 0.63636364 0.         0.         0.        ]\n",
      "Predicción para la fila 293: [0.29675425 0.70324575 0.         0.         0.        ]\n",
      "Predicción para la fila 294: [0.00437637 0.         0.99562363 0.         0.        ]\n",
      "Predicción para la fila 295: [0.0383959  0.14931741 0.23890785 0.57337884 0.        ]\n",
      "Predicción para la fila 296: [0.54364002 0.25606233 0.09104438 0.10925326 0.        ]\n"
     ]
    }
   ],
   "source": [
    "# Crear un objeto de inferencia basado en el modelo entrenado\n",
    "inferK2 = VariableElimination(estimated_modelK2)\n",
    "bin_modeloK2 = []\n",
    "\n",
    "# Calcular las predicciones para cada fila en los datos de prueba\n",
    "for i in (nueva_baseK2.index):\n",
    "    evidenceK2 = nueva_baseK2.loc[i].to_dict()\n",
    "    evidenceK2.pop('num', None)  # Elimina la clave 'num' del diccionario si está presente\n",
    "    prediccionK2 = inferK2.query(['num'], evidence=evidenceK2)\n",
    "    print(f'Predicción para la fila {i}: {prediccionK2.values}')\n",
    "\n",
    "    \n",
    "    posicion = -1\n",
    "    probabilidad = -1\n",
    "    for j in range(0,5):\n",
    "        if prediccionK2.values[estimated_modelK2.get_cpds(\"num\").state_names[\"num\"].index(j)]>probabilidad:\n",
    "            probabilidad = prediccionK2.values[estimated_modelK2.get_cpds(\"num\").state_names[\"num\"].index(j)]\n",
    "            posicion = j\n",
    "    \n",
    "    if posicion == 0:\n",
    "        bin_modeloK2.append(0)\n",
    "    else:\n",
    "        bin_modeloK2.append(1)\n"
   ]
  },
  {
   "cell_type": "code",
   "execution_count": 20,
   "id": "ac653114",
   "metadata": {},
   "outputs": [
    {
     "name": "stdout",
     "output_type": "stream",
     "text": [
      "[0, 0, 1, 0, 0, 1, 1, 1, 0, 0, 1, 1, 0, 0, 0, 0, 0, 0, 1, 0, 0, 0, 0, 1, 0, 1, 1, 0, 1, 1, 1, 0, 0, 1, 0, 0, 0, 0, 1, 0, 1, 0, 1, 1, 1, 1, 0, 1, 0, 1, 1, 1, 0, 1, 1, 1, 1, 1, 0]\n"
     ]
    }
   ],
   "source": [
    "print(bin_modeloK2)"
   ]
  },
  {
   "cell_type": "code",
   "execution_count": 21,
   "id": "6fefaafa",
   "metadata": {},
   "outputs": [],
   "source": [
    "verd_positivo = 0\n",
    "verd_negativo = 0\n",
    "falso_positivo = 0\n",
    "falso_negativo = 0\n",
    "\n",
    "#contar el número de verdaderos positivos y negativos            \n",
    "for i in range(len(nueva_baseK2)):\n",
    "    if bin_test[i]==bin_modeloK2[i]:\n",
    "        if bin_modeloK2[i]==0:\n",
    "            verd_positivo = verd_positivo+1\n",
    "        else:\n",
    "            verd_negativo = verd_negativo+1\n",
    "    else:\n",
    "        if bin_modeloK2[i]==0:\n",
    "            falso_positivo = falso_positivo+1\n",
    "        else:\n",
    "            falso_negativo = falso_negativo+1\n"
   ]
  },
  {
   "cell_type": "code",
   "execution_count": 22,
   "id": "78d4ccc0",
   "metadata": {},
   "outputs": [
    {
     "name": "stdout",
     "output_type": "stream",
     "text": [
      "24 25 6 4\n"
     ]
    }
   ],
   "source": [
    "print(verd_positivo, verd_negativo, falso_positivo, falso_negativo)"
   ]
  },
  {
   "cell_type": "markdown",
   "id": "ee71826f",
   "metadata": {},
   "source": [
    "### El procedimiento anterior usando el punta BIC"
   ]
  },
  {
   "cell_type": "code",
   "execution_count": 23,
   "id": "1bec6985",
   "metadata": {},
   "outputs": [
    {
     "data": {
      "application/vnd.jupyter.widget-view+json": {
       "model_id": "d2d435af8a104b31953198e8982a7227",
       "version_major": 2,
       "version_minor": 0
      },
      "text/plain": [
       "  0%|          | 0/10000 [00:00<?, ?it/s]"
      ]
     },
     "metadata": {},
     "output_type": "display_data"
    },
    {
     "name": "stdout",
     "output_type": "stream",
     "text": [
      "\n",
      "['age', 'sex', 'cp', 'trestbps', 'chol', 'fbs', 'restecg', 'thalach', 'exang', 'oldpeak', 'slope', 'ca', 'thal', 'num']\n",
      "[('thalach', 'exang'), ('exang', 'cp'), ('exang', 'thal'), ('exang', 'slope'), ('oldpeak', 'thalach'), ('thal', 'sex')]\n"
     ]
    }
   ],
   "source": [
    "from pgmpy.estimators import BicScore\n",
    "\n",
    "scoring_method = BicScore(data=datos_prueba)\n",
    "esth = HillClimbSearch(data=datos_prueba)\n",
    "estimated_modelBic = esth.estimate(\n",
    "    scoring_method=scoring_method, max_indegree=4, max_iter=int(1e4)\n",
    ")\n",
    "print(estimated_modelBic)\n",
    "print(estimated_modelBic.nodes())\n",
    "print(estimated_modelBic.edges())"
   ]
  },
  {
   "cell_type": "markdown",
   "id": "2be17f1c",
   "metadata": {},
   "source": [
    "Se imprime el resultado del puntaje obtenido"
   ]
  },
  {
   "cell_type": "code",
   "execution_count": 24,
   "id": "1802f76c",
   "metadata": {},
   "outputs": [
    {
     "name": "stdout",
     "output_type": "stream",
     "text": [
      "-851.0776256211063\n"
     ]
    }
   ],
   "source": [
    "print(scoring_method.score(estimated_modelBic))"
   ]
  },
  {
   "cell_type": "code",
   "execution_count": 25,
   "id": "65ff8162",
   "metadata": {},
   "outputs": [
    {
     "name": "stdout",
     "output_type": "stream",
     "text": [
      "\n",
      "['age', 'sex', 'cp', 'trestbps', 'chol', 'fbs', 'restecg', 'thalach', 'exang', 'oldpeak', 'slope', 'ca', 'thal', 'num']\n",
      "[('thalach', 'exang'), ('exang', 'cp'), ('exang', 'thal'), ('exang', 'slope'), ('oldpeak', 'thalach'), ('thal', 'sex')]\n"
     ]
    }
   ],
   "source": [
    "estimated_modelBic = BayesianNetwork(estimated_modelBic)\n",
    "estimated_modelBic.fit(data=datos_prueba, estimator = MaximumLikelihoodEstimator) \n",
    "\n",
    "print(estimated_modelBic)\n",
    "print(estimated_modelBic.nodes())\n",
    "print(estimated_modelBic.edges())\n",
    "\n",
    "#for i in estimated_modelK2.nodes():\n",
    "    #print(estimated_modelK2.get_cpds(i))"
   ]
  },
  {
   "cell_type": "code",
   "execution_count": 26,
   "id": "0773dc1d",
   "metadata": {},
   "outputs": [
    {
     "name": "stdout",
     "output_type": "stream",
     "text": [
      "-851.0776256211063\n"
     ]
    }
   ],
   "source": [
    "print(scoring_method.score(estimated_modelBic))"
   ]
  },
  {
   "cell_type": "code",
   "execution_count": 27,
   "id": "49ff1b77",
   "metadata": {},
   "outputs": [
    {
     "name": "stdout",
     "output_type": "stream",
     "text": [
      "     age  sex   cp  trestbps  chol  fbs  restecg  thalach  exang  oldpeak  \\\n",
      "238  2.0  0.0  2.0       2.0   3.0  0.0      0.0      4.0    0.0      1.0   \n",
      "239  2.0  0.0  4.0       2.0   3.0  0.0      0.0      4.0    0.0      1.0   \n",
      "240  4.0  1.0  1.0       2.0   2.0  0.0      0.0      3.0    0.0      3.0   \n",
      "241  3.0  0.0  3.0       1.0   1.0  1.0      0.0      1.0    0.0      1.0   \n",
      "242  4.0  1.0  4.0       1.0   2.0  0.0      0.0      1.0    0.0      1.0   \n",
      "\n",
      "     slope   ca  thal  num  \n",
      "238    1.0  0.0   3.0    0  \n",
      "239    1.0  0.0   3.0    0  \n",
      "240    2.0  2.0   3.0    2  \n",
      "241    1.0  0.0   3.0    0  \n",
      "242    2.0  0.0   3.0    2  \n"
     ]
    }
   ],
   "source": [
    "# Crear una lista vacía para contener las variables del modelo\n",
    "variables_modeloBic = []\n",
    "\n",
    "# Recorrer cada variable del modelo y agregarla a la lista si está presente en la base de datos original\n",
    "for nodo in estimated_modelBic.nodes():\n",
    "    if nodo in datos_prueba.columns:\n",
    "        variables_modeloBic.append(datos_prueba[nodo])\n",
    "\n",
    "# Concatenar todas las variables en una sola base de datos\n",
    "nueva_baseBic = pd.concat(variables_modeloBic, axis=1)\n",
    "print(nueva_baseBic.head())"
   ]
  },
  {
   "cell_type": "code",
   "execution_count": 28,
   "id": "dc66420a",
   "metadata": {},
   "outputs": [
    {
     "name": "stdout",
     "output_type": "stream",
     "text": [
      "+--------+------------+\n",
      "| num    |   phi(num) |\n",
      "+========+============+\n",
      "| num(0) |     0.4746 |\n",
      "+--------+------------+\n",
      "| num(1) |     0.2034 |\n",
      "+--------+------------+\n",
      "| num(2) |     0.2034 |\n",
      "+--------+------------+\n",
      "| num(3) |     0.0847 |\n",
      "+--------+------------+\n",
      "| num(4) |     0.0339 |\n",
      "+--------+------------+\n"
     ]
    }
   ],
   "source": [
    "inferBic = VariableElimination(estimated_modelBic)\n",
    "prediccion1=inferBic.query(['num'],evidence={'age': 2.0, 'sex': 0.0, 'cp': 4.0, 'trestbps': 2.0, 'chol': 3.0, 'fbs': 0.0, 'restecg': 0.0, 'thalach': 4.0, 'exang': 0.0, 'oldpeak': 1.0, 'slope': 1.0, 'ca': 0.0, 'thal': 3.0})\n",
    "print(prediccion1)"
   ]
  },
  {
   "cell_type": "code",
   "execution_count": 29,
   "id": "ddc54beb",
   "metadata": {},
   "outputs": [
    {
     "name": "stdout",
     "output_type": "stream",
     "text": [
      "+--------+------------+\n",
      "| num    |   phi(num) |\n",
      "+========+============+\n",
      "| num(0) |     0.4746 |\n",
      "+--------+------------+\n",
      "| num(1) |     0.2034 |\n",
      "+--------+------------+\n",
      "| num(2) |     0.2034 |\n",
      "+--------+------------+\n",
      "| num(3) |     0.0847 |\n",
      "+--------+------------+\n",
      "| num(4) |     0.0339 |\n",
      "+--------+------------+\n"
     ]
    }
   ],
   "source": [
    "prediccion2=inferBic.query(['num'],evidence={'age': 4.0, 'sex': 1.0, 'cp': 1.0, 'trestbps': 2.0, 'chol': 2.0, 'fbs': 0.0, 'restecg': 0.0, 'thalach': 3.0, 'exang': 0.0, 'oldpeak': 3.0, 'slope': 2.0, 'ca': 2.0, 'thal': 3.0})\n",
    "print(prediccion2)"
   ]
  },
  {
   "cell_type": "code",
   "execution_count": 30,
   "id": "ee4901f1",
   "metadata": {},
   "outputs": [
    {
     "name": "stdout",
     "output_type": "stream",
     "text": [
      "{'age': 2.0, 'sex': 0.0, 'cp': 2.0, 'trestbps': 2.0, 'chol': 3.0, 'fbs': 0.0, 'restecg': 0.0, 'thalach': 4.0, 'exang': 0.0, 'oldpeak': 1.0, 'slope': 1.0, 'ca': 0.0, 'thal': 3.0, 'num': 0.0}\n",
      "Predicción para la fila 238: [0.47457627 0.20338983 0.20338983 0.08474576 0.03389831]\n",
      "{'age': 2.0, 'sex': 0.0, 'cp': 4.0, 'trestbps': 2.0, 'chol': 3.0, 'fbs': 0.0, 'restecg': 0.0, 'thalach': 4.0, 'exang': 0.0, 'oldpeak': 1.0, 'slope': 1.0, 'ca': 0.0, 'thal': 3.0, 'num': 0.0}\n",
      "Predicción para la fila 239: [0.47457627 0.20338983 0.20338983 0.08474576 0.03389831]\n",
      "{'age': 4.0, 'sex': 1.0, 'cp': 1.0, 'trestbps': 2.0, 'chol': 2.0, 'fbs': 0.0, 'restecg': 0.0, 'thalach': 3.0, 'exang': 0.0, 'oldpeak': 3.0, 'slope': 2.0, 'ca': 2.0, 'thal': 3.0, 'num': 2.0}\n",
      "Predicción para la fila 240: [0.47457627 0.20338983 0.20338983 0.08474576 0.03389831]\n",
      "{'age': 3.0, 'sex': 0.0, 'cp': 3.0, 'trestbps': 1.0, 'chol': 1.0, 'fbs': 1.0, 'restecg': 0.0, 'thalach': 1.0, 'exang': 0.0, 'oldpeak': 1.0, 'slope': 1.0, 'ca': 0.0, 'thal': 3.0, 'num': 0.0}\n",
      "Predicción para la fila 241: [0.47457627 0.20338983 0.20338983 0.08474576 0.03389831]\n",
      "{'age': 4.0, 'sex': 1.0, 'cp': 4.0, 'trestbps': 1.0, 'chol': 2.0, 'fbs': 0.0, 'restecg': 0.0, 'thalach': 1.0, 'exang': 0.0, 'oldpeak': 1.0, 'slope': 2.0, 'ca': 0.0, 'thal': 3.0, 'num': 2.0}\n",
      "Predicción para la fila 242: [0.47457627 0.20338983 0.20338983 0.08474576 0.03389831]\n",
      "{'age': 3.0, 'sex': 1.0, 'cp': 4.0, 'trestbps': 1.0, 'chol': 2.0, 'fbs': 0.0, 'restecg': 0.0, 'thalach': 3.0, 'exang': 0.0, 'oldpeak': 1.0, 'slope': 1.0, 'ca': 1.0, 'thal': 7.0, 'num': 2.0}\n",
      "Predicción para la fila 243: [0.47457627 0.20338983 0.20338983 0.08474576 0.03389831]\n",
      "{'age': 2.0, 'sex': 1.0, 'cp': 4.0, 'trestbps': 1.0, 'chol': 3.0, 'fbs': 0.0, 'restecg': 2.0, 'thalach': 1.0, 'exang': 1.0, 'oldpeak': 1.0, 'slope': 2.0, 'ca': 1.0, 'thal': 3.0, 'num': 1.0}\n",
      "Predicción para la fila 244: [0.47457627 0.20338983 0.20338983 0.08474576 0.03389831]\n",
      "{'age': 3.0, 'sex': 1.0, 'cp': 4.0, 'trestbps': 2.0, 'chol': 2.0, 'fbs': 0.0, 'restecg': 0.0, 'thalach': 4.0, 'exang': 0.0, 'oldpeak': 1.0, 'slope': 1.0, 'ca': 2.0, 'thal': 7.0, 'num': 3.0}\n",
      "Predicción para la fila 245: [0.47457627 0.20338983 0.20338983 0.08474576 0.03389831]\n",
      "{'age': 4.0, 'sex': 1.0, 'cp': 2.0, 'trestbps': 2.0, 'chol': 2.0, 'fbs': 1.0, 'restecg': 2.0, 'thalach': 2.0, 'exang': 0.0, 'oldpeak': 1.0, 'slope': 1.0, 'ca': 0.0, 'thal': 3.0, 'num': 0.0}\n",
      "Predicción para la fila 246: [0.47457627 0.20338983 0.20338983 0.08474576 0.03389831]\n",
      "{'age': 3.0, 'sex': 1.0, 'cp': 4.0, 'trestbps': 1.0, 'chol': 2.0, 'fbs': 0.0, 'restecg': 0.0, 'thalach': 2.0, 'exang': 1.0, 'oldpeak': 2.0, 'slope': 2.0, 'ca': 0.0, 'thal': 6.0, 'num': 0.0}\n",
      "Predicción para la fila 247: [0.47457627 0.20338983 0.20338983 0.08474576 0.03389831]\n",
      "{'age': 3.0, 'sex': 1.0, 'cp': 4.0, 'trestbps': 3.0, 'chol': 2.0, 'fbs': 0.0, 'restecg': 0.0, 'thalach': 1.0, 'exang': 0.0, 'oldpeak': 2.0, 'slope': 2.0, 'ca': 1.0, 'thal': 7.0, 'num': 1.0}\n",
      "Predicción para la fila 248: [0.47457627 0.20338983 0.20338983 0.08474576 0.03389831]\n",
      "{'age': 4.0, 'sex': 1.0, 'cp': 4.0, 'trestbps': 2.0, 'chol': 3.0, 'fbs': 0.0, 'restecg': 0.0, 'thalach': 1.0, 'exang': 1.0, 'oldpeak': 1.0, 'slope': 2.0, 'ca': 1.0, 'thal': 7.0, 'num': 0.0}\n",
      "Predicción para la fila 249: [0.47457627 0.20338983 0.20338983 0.08474576 0.03389831]\n",
      "{'age': 3.0, 'sex': 0.0, 'cp': 3.0, 'trestbps': 1.0, 'chol': 3.0, 'fbs': 0.0, 'restecg': 2.0, 'thalach': 3.0, 'exang': 0.0, 'oldpeak': 1.0, 'slope': 1.0, 'ca': 0.0, 'thal': 3.0, 'num': 0.0}\n",
      "Predicción para la fila 250: [0.47457627 0.20338983 0.20338983 0.08474576 0.03389831]\n",
      "{'age': 2.0, 'sex': 1.0, 'cp': 4.0, 'trestbps': 1.0, 'chol': 3.0, 'fbs': 0.0, 'restecg': 0.0, 'thalach': 4.0, 'exang': 0.0, 'oldpeak': 2.0, 'slope': 2.0, 'ca': 0.0, 'thal': 3.0, 'num': 0.0}\n",
      "Predicción para la fila 251: [0.47457627 0.20338983 0.20338983 0.08474576 0.03389831]\n",
      "{'age': 2.0, 'sex': 0.0, 'cp': 3.0, 'trestbps': 1.0, 'chol': 2.0, 'fbs': 0.0, 'restecg': 0.0, 'thalach': 4.0, 'exang': 0.0, 'oldpeak': 1.0, 'slope': 2.0, 'ca': 0.0, 'thal': 3.0, 'num': 0.0}\n",
      "Predicción para la fila 252: [0.47457627 0.20338983 0.20338983 0.08474576 0.03389831]\n",
      "{'age': 4.0, 'sex': 0.0, 'cp': 4.0, 'trestbps': 1.0, 'chol': 2.0, 'fbs': 0.0, 'restecg': 0.0, 'thalach': 3.0, 'exang': 0.0, 'oldpeak': 1.0, 'slope': 1.0, 'ca': 2.0, 'thal': 3.0, 'num': 0.0}\n",
      "Predicción para la fila 253: [0.47457627 0.20338983 0.20338983 0.08474576 0.03389831]\n",
      "{'age': 4.0, 'sex': 0.0, 'cp': 3.0, 'trestbps': 3.0, 'chol': 1.0, 'fbs': 0.0, 'restecg': 1.0, 'thalach': 1.0, 'exang': 0.0, 'oldpeak': 2.0, 'slope': 2.0, 'ca': 0.0, 'thal': 3.0, 'num': 0.0}\n",
      "Predicción para la fila 254: [0.47457627 0.20338983 0.20338983 0.08474576 0.03389831]\n",
      "{'age': 4.0, 'sex': 1.0, 'cp': 2.0, 'trestbps': 3.0, 'chol': 3.0, 'fbs': 0.0, 'restecg': 2.0, 'thalach': 3.0, 'exang': 0.0, 'oldpeak': 1.0, 'slope': 1.0, 'ca': 0.0, 'thal': 3.0, 'num': 0.0}\n",
      "Predicción para la fila 255: [0.47457627 0.20338983 0.20338983 0.08474576 0.03389831]\n",
      "{'age': 3.0, 'sex': 1.0, 'cp': 2.0, 'trestbps': 2.0, 'chol': 3.0, 'fbs': 0.0, 'restecg': 0.0, 'thalach': 3.0, 'exang': 0.0, 'oldpeak': 1.0, 'slope': 1.0, 'ca': 0.0, 'thal': 7.0, 'num': 1.0}\n",
      "Predicción para la fila 256: [0.47457627 0.20338983 0.20338983 0.08474576 0.03389831]\n",
      "{'age': 2.0, 'sex': 0.0, 'cp': 3.0, 'trestbps': 1.0, 'chol': 3.0, 'fbs': 0.0, 'restecg': 0.0, 'thalach': 3.0, 'exang': 0.0, 'oldpeak': 1.0, 'slope': 2.0, 'ca': 1.0, 'thal': 3.0, 'num': 0.0}\n",
      "Predicción para la fila 257: [0.47457627 0.20338983 0.20338983 0.08474576 0.03389831]\n",
      "{'age': 3.0, 'sex': 0.0, 'cp': 2.0, 'trestbps': 2.0, 'chol': 3.0, 'fbs': 1.0, 'restecg': 2.0, 'thalach': 3.0, 'exang': 0.0, 'oldpeak': 1.0, 'slope': 1.0, 'ca': 2.0, 'thal': 3.0, 'num': 3.0}\n",
      "Predicción para la fila 258: [0.47457627 0.20338983 0.20338983 0.08474576 0.03389831]\n",
      "{'age': 3.0, 'sex': 0.0, 'cp': 1.0, 'trestbps': 3.0, 'chol': 3.0, 'fbs': 0.0, 'restecg': 0.0, 'thalach': 4.0, 'exang': 0.0, 'oldpeak': 1.0, 'slope': 1.0, 'ca': 0.0, 'thal': 3.0, 'num': 0.0}\n",
      "Predicción para la fila 259: [0.47457627 0.20338983 0.20338983 0.08474576 0.03389831]\n",
      "{'age': 2.0, 'sex': 1.0, 'cp': 3.0, 'trestbps': 1.0, 'chol': 2.0, 'fbs': 0.0, 'restecg': 0.0, 'thalach': 4.0, 'exang': 0.0, 'oldpeak': 1.0, 'slope': 1.0, 'ca': 0.0, 'thal': 3.0, 'num': 0.0}\n",
      "Predicción para la fila 260: [0.47457627 0.20338983 0.20338983 0.08474576 0.03389831]\n",
      "{'age': 4.0, 'sex': 1.0, 'cp': 4.0, 'trestbps': 2.0, 'chol': 1.0, 'fbs': 0.0, 'restecg': 2.0, 'thalach': 2.0, 'exang': 1.0, 'oldpeak': 3.0, 'slope': 2.0, 'ca': 1.0, 'thal': 3.0, 'num': 4.0}\n",
      "Predicción para la fila 261: [0.47457627 0.20338983 0.20338983 0.08474576 0.03389831]\n",
      "{'age': 2.0, 'sex': 1.0, 'cp': 4.0, 'trestbps': 2.0, 'chol': 3.0, 'fbs': 0.0, 'restecg': 0.0, 'thalach': 2.0, 'exang': 1.0, 'oldpeak': 2.0, 'slope': 2.0, 'ca': 0.0, 'thal': 6.0, 'num': 2.0}\n",
      "Predicción para la fila 262: [0.47457627 0.20338983 0.20338983 0.08474576 0.03389831]\n",
      "{'age': 3.0, 'sex': 1.0, 'cp': 3.0, 'trestbps': 2.0, 'chol': 2.0, 'fbs': 1.0, 'restecg': 0.0, 'thalach': 2.0, 'exang': 0.0, 'oldpeak': 3.0, 'slope': 2.0, 'ca': 1.0, 'thal': 6.0, 'num': 2.0}\n",
      "Predicción para la fila 263: [0.47457627 0.20338983 0.20338983 0.08474576 0.03389831]\n",
      "{'age': 1.0, 'sex': 1.0, 'cp': 4.0, 'trestbps': 3.0, 'chol': 2.0, 'fbs': 0.0, 'restecg': 0.0, 'thalach': 4.0, 'exang': 0.0, 'oldpeak': 1.0, 'slope': 1.0, 'ca': 0.0, 'thal': 7.0, 'num': 1.0}\n",
      "Predicción para la fila 264: [0.47457627 0.20338983 0.20338983 0.08474576 0.03389831]\n",
      "{'age': 2.0, 'sex': 1.0, 'cp': 3.0, 'trestbps': 2.0, 'chol': 1.0, 'fbs': 0.0, 'restecg': 0.0, 'thalach': 3.0, 'exang': 0.0, 'oldpeak': 1.0, 'slope': 1.0, 'ca': 0.0, 'thal': 3.0, 'num': 0.0}\n",
      "Predicción para la fila 265: [0.47457627 0.20338983 0.20338983 0.08474576 0.03389831]\n",
      "{'age': 4.0, 'sex': 1.0, 'cp': 4.0, 'trestbps': 3.0, 'chol': 2.0, 'fbs': 0.0, 'restecg': 2.0, 'thalach': 2.0, 'exang': 1.0, 'oldpeak': 2.0, 'slope': 1.0, 'ca': 1.0, 'thal': 7.0, 'num': 1.0}\n",
      "Predicción para la fila 266: [0.47457627 0.20338983 0.20338983 0.08474576 0.03389831]\n",
      "{'age': 4.0, 'sex': 1.0, 'cp': 4.0, 'trestbps': 4.0, 'chol': 2.0, 'fbs': 0.0, 'restecg': 2.0, 'thalach': 2.0, 'exang': 0.0, 'oldpeak': 3.0, 'slope': 1.0, 'ca': 0.0, 'thal': 6.0, 'num': 0.0}\n",
      "Predicción para la fila 267: [0.47457627 0.20338983 0.20338983 0.08474576 0.03389831]\n",
      "{'age': 2.0, 'sex': 1.0, 'cp': 4.0, 'trestbps': 3.0, 'chol': 3.0, 'fbs': 0.0, 'restecg': 0.0, 'thalach': 1.0, 'exang': 1.0, 'oldpeak': 2.0, 'slope': 2.0, 'ca': 2.0, 'thal': 7.0, 'num': 2.0}\n",
      "Predicción para la fila 268: [0.47457627 0.20338983 0.20338983 0.08474576 0.03389831]\n",
      "{'age': 4.0, 'sex': 0.0, 'cp': 4.0, 'trestbps': 1.0, 'chol': 1.0, 'fbs': 0.0, 'restecg': 0.0, 'thalach': 2.0, 'exang': 0.0, 'oldpeak': 2.0, 'slope': 2.0, 'ca': 0.0, 'thal': 3.0, 'num': 0.0}\n",
      "Predicción para la fila 269: [0.47457627 0.20338983 0.20338983 0.08474576 0.03389831]\n",
      "{'age': 3.0, 'sex': 1.0, 'cp': 1.0, 'trestbps': 2.0, 'chol': 2.0, 'fbs': 0.0, 'restecg': 0.0, 'thalach': 4.0, 'exang': 0.0, 'oldpeak': 1.0, 'slope': 1.0, 'ca': 2.0, 'thal': 3.0, 'num': 1.0}\n",
      "Predicción para la fila 270: [0.47457627 0.20338983 0.20338983 0.08474576 0.03389831]\n",
      "{'age': 4.0, 'sex': 1.0, 'cp': 1.0, 'trestbps': 4.0, 'chol': 2.0, 'fbs': 0.0, 'restecg': 2.0, 'thalach': 3.0, 'exang': 0.0, 'oldpeak': 1.0, 'slope': 2.0, 'ca': 0.0, 'thal': 7.0, 'num': 0.0}\n",
      "Predicción para la fila 271: [0.47457627 0.20338983 0.20338983 0.08474576 0.03389831]\n",
      "{'age': 4.0, 'sex': 0.0, 'cp': 3.0, 'trestbps': 3.0, 'chol': 3.0, 'fbs': 0.0, 'restecg': 2.0, 'thalach': 3.0, 'exang': 0.0, 'oldpeak': 1.0, 'slope': 2.0, 'ca': 1.0, 'thal': 3.0, 'num': 0.0}\n",
      "Predicción para la fila 272: [0.47457627 0.20338983 0.20338983 0.08474576 0.03389831]\n",
      "{'age': 1.0, 'sex': 0.0, 'cp': 3.0, 'trestbps': 2.0, 'chol': 2.0, 'fbs': 0.0, 'restecg': 0.0, 'thalach': 3.0, 'exang': 0.0, 'oldpeak': 1.0, 'slope': 2.0, 'ca': 0.0, 'thal': 3.0, 'num': 0.0}\n",
      "Predicción para la fila 273: [0.47457627 0.20338983 0.20338983 0.08474576 0.03389831]\n",
      "{'age': 3.0, 'sex': 1.0, 'cp': 2.0, 'trestbps': 3.0, 'chol': 2.0, 'fbs': 0.0, 'restecg': 2.0, 'thalach': 4.0, 'exang': 0.0, 'oldpeak': 1.0, 'slope': 1.0, 'ca': 1.0, 'thal': 3.0, 'num': 1.0}\n",
      "Predicción para la fila 274: [0.47457627 0.20338983 0.20338983 0.08474576 0.03389831]\n",
      "{'age': 3.0, 'sex': 0.0, 'cp': 4.0, 'trestbps': 2.0, 'chol': 1.0, 'fbs': 0.0, 'restecg': 0.0, 'thalach': 2.0, 'exang': 0.0, 'oldpeak': 1.0, 'slope': 2.0, 'ca': 0.0, 'thal': 3.0, 'num': 0.0}\n",
      "Predicción para la fila 275: [0.47457627 0.20338983 0.20338983 0.08474576 0.03389831]\n",
      "{'age': 3.0, 'sex': 1.0, 'cp': 4.0, 'trestbps': 1.0, 'chol': 3.0, 'fbs': 0.0, 'restecg': 0.0, 'thalach': 3.0, 'exang': 1.0, 'oldpeak': 3.0, 'slope': 2.0, 'ca': 1.0, 'thal': 7.0, 'num': 2.0}\n",
      "Predicción para la fila 276: [0.47457627 0.20338983 0.20338983 0.08474576 0.03389831]\n",
      "{'age': 2.0, 'sex': 1.0, 'cp': 3.0, 'trestbps': 2.0, 'chol': 3.0, 'fbs': 0.0, 'restecg': 0.0, 'thalach': 4.0, 'exang': 0.0, 'oldpeak': 1.0, 'slope': 1.0, 'ca': 0.0, 'thal': 3.0, 'num': 0.0}\n",
      "Predicción para la fila 277: [0.47457627 0.20338983 0.20338983 0.08474576 0.03389831]\n",
      "{'age': 3.0, 'sex': 0.0, 'cp': 4.0, 'trestbps': 2.0, 'chol': 2.0, 'fbs': 0.0, 'restecg': 1.0, 'thalach': 2.0, 'exang': 1.0, 'oldpeak': 2.0, 'slope': 2.0, 'ca': 1.0, 'thal': 7.0, 'num': 3.0}\n",
      "Predicción para la fila 278: [0.47457627 0.20338983 0.20338983 0.08474576 0.03389831]\n",
      "{'age': 1.0, 'sex': 1.0, 'cp': 2.0, 'trestbps': 2.0, 'chol': 1.0, 'fbs': 0.0, 'restecg': 0.0, 'thalach': 4.0, 'exang': 0.0, 'oldpeak': 1.0, 'slope': 1.0, 'ca': 0.0, 'thal': 3.0, 'num': 0.0}\n",
      "Predicción para la fila 279: [0.47457627 0.20338983 0.20338983 0.08474576 0.03389831]\n",
      "{'age': 4.0, 'sex': 1.0, 'cp': 4.0, 'trestbps': 3.0, 'chol': 2.0, 'fbs': 0.0, 'restecg': 0.0, 'thalach': 4.0, 'exang': 0.0, 'oldpeak': 1.0, 'slope': 1.0, 'ca': 1.0, 'thal': 7.0, 'num': 2.0}\n",
      "Predicción para la fila 280: [0.47457627 0.20338983 0.20338983 0.08474576 0.03389831]\n",
      "{'age': 3.0, 'sex': 1.0, 'cp': 4.0, 'trestbps': 1.0, 'chol': 3.0, 'fbs': 0.0, 'restecg': 1.0, 'thalach': 2.0, 'exang': 0.0, 'oldpeak': 3.0, 'slope': 3.0, 'ca': 3.0, 'thal': 6.0, 'num': 4.0}\n",
      "Predicción para la fila 281: [0.47457627 0.20338983 0.20338983 0.08474576 0.03389831]\n",
      "{'age': 3.0, 'sex': 0.0, 'cp': 4.0, 'trestbps': 4.0, 'chol': 2.0, 'fbs': 1.0, 'restecg': 2.0, 'thalach': 3.0, 'exang': 1.0, 'oldpeak': 3.0, 'slope': 2.0, 'ca': 2.0, 'thal': 6.0, 'num': 2.0}\n",
      "Predicción para la fila 282: [0.47457627 0.20338983 0.20338983 0.08474576 0.03389831]\n",
      "{'age': 3.0, 'sex': 1.0, 'cp': 2.0, 'trestbps': 2.0, 'chol': 2.0, 'fbs': 0.0, 'restecg': 2.0, 'thalach': 4.0, 'exang': 0.0, 'oldpeak': 1.0, 'slope': 1.0, 'ca': 0.0, 'thal': 7.0, 'num': 0.0}\n",
      "Predicción para la fila 283: [0.47457627 0.20338983 0.20338983 0.08474576 0.03389831]\n",
      "{'age': 3.0, 'sex': 1.0, 'cp': 2.0, 'trestbps': 1.0, 'chol': 3.0, 'fbs': 0.0, 'restecg': 0.0, 'thalach': 4.0, 'exang': 0.0, 'oldpeak': 1.0, 'slope': 3.0, 'ca': 0.0, 'thal': 3.0, 'num': 0.0}\n",
      "Predicción para la fila 284: [0.47457627 0.20338983 0.20338983 0.08474576 0.03389831]\n",
      "{'age': 4.0, 'sex': 1.0, 'cp': 3.0, 'trestbps': 3.0, 'chol': 2.0, 'fbs': 0.0, 'restecg': 2.0, 'thalach': 3.0, 'exang': 0.0, 'oldpeak': 1.0, 'slope': 2.0, 'ca': 0.0, 'thal': 7.0, 'num': 1.0}\n",
      "Predicción para la fila 285: [0.47457627 0.20338983 0.20338983 0.08474576 0.03389831]\n",
      "{'age': 3.0, 'sex': 0.0, 'cp': 2.0, 'trestbps': 2.0, 'chol': 3.0, 'fbs': 0.0, 'restecg': 0.0, 'thalach': 4.0, 'exang': 0.0, 'oldpeak': 2.0, 'slope': 1.0, 'ca': 0.0, 'thal': 3.0, 'num': 0.0}\n",
      "Predicción para la fila 286: [0.47457627 0.20338983 0.20338983 0.08474576 0.03389831]\n",
      "{'age': 2.0, 'sex': 1.0, 'cp': 4.0, 'trestbps': 1.0, 'chol': 1.0, 'fbs': 0.0, 'restecg': 0.0, 'thalach': 3.0, 'exang': 1.0, 'oldpeak': 3.0, 'slope': 3.0, 'ca': 0.0, 'thal': 6.0, 'num': 2.0}\n",
      "Predicción para la fila 287: [0.47457627 0.20338983 0.20338983 0.08474576 0.03389831]\n",
      "{'age': 4.0, 'sex': 1.0, 'cp': 4.0, 'trestbps': 3.0, 'chol': 1.0, 'fbs': 0.0, 'restecg': 2.0, 'thalach': 3.0, 'exang': 1.0, 'oldpeak': 3.0, 'slope': 1.0, 'ca': 2.0, 'thal': 7.0, 'num': 2.0}\n",
      "Predicción para la fila 288: [0.47457627 0.20338983 0.20338983 0.08474576 0.03389831]\n",
      "{'age': 4.0, 'sex': 0.0, 'cp': 4.0, 'trestbps': 2.0, 'chol': 1.0, 'fbs': 0.0, 'restecg': 0.0, 'thalach': 2.0, 'exang': 1.0, 'oldpeak': 1.0, 'slope': 2.0, 'ca': 0.0, 'thal': 3.0, 'num': 1.0}\n",
      "Predicción para la fila 289: [0.47457627 0.20338983 0.20338983 0.08474576 0.03389831]\n",
      "{'age': 2.0, 'sex': 1.0, 'cp': 2.0, 'trestbps': 1.0, 'chol': 1.0, 'fbs': 0.0, 'restecg': 0.0, 'thalach': 4.0, 'exang': 0.0, 'oldpeak': 1.0, 'slope': 1.0, 'ca': 0.0, 'thal': 3.0, 'num': 0.0}\n",
      "Predicción para la fila 290: [0.47457627 0.20338983 0.20338983 0.08474576 0.03389831]\n",
      "{'age': 3.0, 'sex': 1.0, 'cp': 4.0, 'trestbps': 4.0, 'chol': 1.0, 'fbs': 1.0, 'restecg': 2.0, 'thalach': 1.0, 'exang': 0.0, 'oldpeak': 1.0, 'slope': 2.0, 'ca': 2.0, 'thal': 6.0, 'num': 3.0}\n",
      "Predicción para la fila 291: [0.47457627 0.20338983 0.20338983 0.08474576 0.03389831]\n",
      "{'age': 3.0, 'sex': 0.0, 'cp': 4.0, 'trestbps': 3.0, 'chol': 3.0, 'fbs': 0.0, 'restecg': 0.0, 'thalach': 2.0, 'exang': 1.0, 'oldpeak': 1.0, 'slope': 2.0, 'ca': 0.0, 'thal': 7.0, 'num': 1.0}\n",
      "Predicción para la fila 292: [0.47457627 0.20338983 0.20338983 0.08474576 0.03389831]\n",
      "{'age': 2.0, 'sex': 1.0, 'cp': 1.0, 'trestbps': 1.0, 'chol': 3.0, 'fbs': 0.0, 'restecg': 0.0, 'thalach': 2.0, 'exang': 0.0, 'oldpeak': 2.0, 'slope': 2.0, 'ca': 0.0, 'thal': 7.0, 'num': 1.0}\n",
      "Predicción para la fila 293: [0.47457627 0.20338983 0.20338983 0.08474576 0.03389831]\n",
      "{'age': 4.0, 'sex': 1.0, 'cp': 4.0, 'trestbps': 3.0, 'chol': 1.0, 'fbs': 1.0, 'restecg': 0.0, 'thalach': 3.0, 'exang': 0.0, 'oldpeak': 3.0, 'slope': 2.0, 'ca': 2.0, 'thal': 7.0, 'num': 2.0}\n",
      "Predicción para la fila 294: [0.47457627 0.20338983 0.20338983 0.08474576 0.03389831]\n",
      "{'age': 3.0, 'sex': 1.0, 'cp': 4.0, 'trestbps': 2.0, 'chol': 1.0, 'fbs': 0.0, 'restecg': 0.0, 'thalach': 1.0, 'exang': 1.0, 'oldpeak': 2.0, 'slope': 2.0, 'ca': 1.0, 'thal': 7.0, 'num': 3.0}\n",
      "Predicción para la fila 295: [0.47457627 0.20338983 0.20338983 0.08474576 0.03389831]\n",
      "{'age': 3.0, 'sex': 0.0, 'cp': 2.0, 'trestbps': 2.0, 'chol': 2.0, 'fbs': 0.0, 'restecg': 2.0, 'thalach': 4.0, 'exang': 0.0, 'oldpeak': 1.0, 'slope': 2.0, 'ca': 1.0, 'thal': 3.0, 'num': 1.0}\n",
      "Predicción para la fila 296: [0.47457627 0.20338983 0.20338983 0.08474576 0.03389831]\n"
     ]
    }
   ],
   "source": [
    "\n",
    "# Crear un objeto de inferencia basado en el modelo entrenado\n",
    "inferBic = VariableElimination(estimated_modelBic)\n",
    "bin_modeloBic = []\n",
    "\n",
    "# Calcular las predicciones para cada fila en los datos de prueba\n",
    "for i in (nueva_baseBic.index):\n",
    "    evidenceBic = nueva_baseBic.loc[i].to_dict()\n",
    "    print(evidenceBic)\n",
    "    evidenceBic.pop('num', None)  # Elimina la clave 'num' del diccionario si está presente\n",
    "    prediccionBic = inferBic.query(['num'], evidence=evidenceBic)\n",
    "    print(f'Predicción para la fila {i}: {prediccionBic.values}')\n",
    "\n",
    "    \n",
    "    posicion = -1\n",
    "    probabilidad = -1\n",
    "    for j in range(0,5):\n",
    "        if prediccionBic.values[estimated_modelBic.get_cpds(\"num\").state_names[\"num\"].index(j)]>probabilidad:\n",
    "            probabilidad = prediccionBic.values[estimated_modelBic.get_cpds(\"num\").state_names[\"num\"].index(j)]\n",
    "            posicion = j\n",
    "    \n",
    "    if posicion == 0:\n",
    "        bin_modeloBic.append(0)\n",
    "    else:\n",
    "        bin_modeloBic.append(1)"
   ]
  },
  {
   "cell_type": "code",
   "execution_count": 31,
   "id": "26b8e179",
   "metadata": {},
   "outputs": [
    {
     "name": "stdout",
     "output_type": "stream",
     "text": [
      "[0, 0, 0, 0, 0, 0, 0, 0, 0, 0, 0, 0, 0, 0, 0, 0, 0, 0, 0, 0, 0, 0, 0, 0, 0, 0, 0, 0, 0, 0, 0, 0, 0, 0, 0, 0, 0, 0, 0, 0, 0, 0, 0, 0, 0, 0, 0, 0, 0, 0, 0, 0, 0, 0, 0, 0, 0, 0, 0]\n"
     ]
    }
   ],
   "source": [
    "print(bin_modeloBic)"
   ]
  },
  {
   "cell_type": "code",
   "execution_count": 32,
   "id": "2b503862",
   "metadata": {},
   "outputs": [],
   "source": [
    "verd_positivo = 0\n",
    "verd_negativo = 0\n",
    "falso_positivo = 0\n",
    "falso_negativo = 0\n",
    "\n",
    "#contar el número de verdaderos positivos y negativos            \n",
    "for i in range(len(nueva_baseBic)):\n",
    "    if bin_test[i]==bin_modeloBic[i]:\n",
    "        if bin_modeloBic[i]==0:\n",
    "            verd_positivo = verd_positivo+1\n",
    "        else:\n",
    "            verd_negativo = verd_negativo+1\n",
    "    else:\n",
    "        if bin_modeloBic[i]==0:\n",
    "            falso_positivo = falso_positivo+1\n",
    "        else:\n",
    "            falso_negativo = falso_negativo+1\n"
   ]
  },
  {
   "cell_type": "code",
   "execution_count": 33,
   "id": "29fcd310",
   "metadata": {},
   "outputs": [
    {
     "name": "stdout",
     "output_type": "stream",
     "text": [
      "28 0 31 0\n"
     ]
    }
   ],
   "source": [
    "print(verd_positivo, verd_negativo, falso_positivo, falso_negativo)"
   ]
  }
 ],
 "metadata": {
  "kernelspec": {
   "display_name": "Python 3",
   "language": "python",
   "name": "python3"
  },
  "language_info": {
   "codemirror_mode": {
    "name": "ipython",
    "version": 3
   },
   "file_extension": ".py",
   "mimetype": "text/x-python",
   "name": "python",
   "nbconvert_exporter": "python",
   "pygments_lexer": "ipython3",
   "version": "3.8.8"
  }
 },
 "nbformat": 4,
 "nbformat_minor": 5
}
