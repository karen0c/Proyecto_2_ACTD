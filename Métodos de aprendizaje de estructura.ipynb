{
 "cells": [
  {
   "cell_type": "markdown",
   "id": "cd5bd313",
   "metadata": {},
   "source": [
    "## Taller 9\n",
    "### Ahora con otra red y datos"
   ]
  },
  {
   "cell_type": "markdown",
   "id": "0e25119d",
   "metadata": {},
   "source": [
    "Importación y transformación de los datos"
   ]
  },
  {
   "cell_type": "code",
   "execution_count": 28,
   "id": "6db76a91",
   "metadata": {},
   "outputs": [
    {
     "name": "stdout",
     "output_type": "stream",
     "text": [
      "   age  sex   cp  trestbps  chol  fbs  restecg  thalach  exang  oldpeak  \\\n",
      "0  4.0  1.0  1.0       3.0   2.0  1.0      2.0      3.0    0.0      3.0   \n",
      "1  4.0  1.0  4.0       4.0   3.0  0.0      2.0      1.0    1.0      2.0   \n",
      "2  4.0  1.0  4.0       1.0   2.0  0.0      2.0      2.0    1.0      3.0   \n",
      "3  1.0  1.0  3.0       2.0   3.0  0.0      0.0      4.0    0.0      3.0   \n",
      "4  2.0  0.0  2.0       2.0   2.0  0.0      2.0      4.0    0.0      2.0   \n",
      "5  3.0  1.0  2.0       1.0   2.0  0.0      0.0      4.0    0.0      1.0   \n",
      "6  4.0  0.0  4.0       3.0   3.0  0.0      2.0      4.0    0.0      3.0   \n",
      "7  3.0  0.0  4.0       1.0   3.0  0.0      0.0      4.0    1.0      1.0   \n",
      "8  4.0  1.0  4.0       2.0   3.0  0.0      2.0      3.0    0.0      2.0   \n",
      "9  3.0  1.0  4.0       3.0   2.0  1.0      2.0      3.0    1.0      3.0   \n",
      "\n",
      "   slope   ca  thal  num  \n",
      "0    3.0  0.0   6.0    0  \n",
      "1    2.0  3.0   3.0    2  \n",
      "2    2.0  2.0   7.0    1  \n",
      "3    3.0  0.0   3.0    0  \n",
      "4    1.0  0.0   3.0    0  \n",
      "5    1.0  0.0   3.0    0  \n",
      "6    3.0  2.0   3.0    3  \n",
      "7    1.0  0.0   3.0    0  \n",
      "8    2.0  1.0   7.0    2  \n",
      "9    3.0  0.0   7.0    1  \n"
     ]
    }
   ],
   "source": [
    "import pandas as pd\n",
    "\n",
    "columnas = [\"age\",\"sex\",\"cp\",\"trestbps\",\"chol\",\"fbs\",\"restecg\",\"thalach\",\"exang\",\"oldpeak\",\"slope\",\"ca\",\"thal\",\"num\"]\n",
    "datos_iniciales = pd.read_csv('https://raw.githubusercontent.com/karen0c/Proyecto_1_ACTD/main/processed.cleveland.data',header=None, names=columnas, na_values=\"?\")\n",
    "\n",
    "datos_iniciales = datos_iniciales.dropna().reset_index(drop=True) #elimina filas con valores faltantes\n",
    "#print(datos_iniciales.head())\n",
    "#print(datos_iniciales.tail())\n",
    "\n",
    "# crear unos nuevos datos donde guardaremos la información con los datos discretizados\n",
    "datos = datos_iniciales\n",
    "\n",
    "for i in range(0,297):\n",
    "  if datos_iniciales.loc[i, 'age'] <= 40:\n",
    "    datos.loc[i, 'age'] = 1\n",
    "  elif datos_iniciales.loc[i, 'age'] > 40 and datos_iniciales.loc[i, 'age'] <= 50:\n",
    "    datos.loc[i, 'age'] = 2\n",
    "  elif datos_iniciales.loc[i, 'age'] > 50 and datos_iniciales.loc[i, 'age'] <= 60:\n",
    "    datos.loc[i, 'age'] = 3\n",
    "  else:\n",
    "    datos.loc[i, 'age'] = 4\n",
    "\n",
    "for i in range(0,297):\n",
    "  if datos_iniciales.loc[i, \"trestbps\"] <= 120:\n",
    "    datos.loc[i, \"trestbps\"] = 1\n",
    "  elif datos_iniciales.loc[i, \"trestbps\"] > 120 and datos_iniciales.loc[i, \"trestbps\"] <= 139:\n",
    "    datos.loc[i, \"trestbps\"] = 2\n",
    "  elif datos_iniciales.loc[i, \"trestbps\"] >= 140 and datos_iniciales.loc[i, \"trestbps\"] <= 159:\n",
    "    datos.loc[i, \"trestbps\"] = 3\n",
    "  elif datos_iniciales.loc[i, \"trestbps\"] >= 160 and datos_iniciales.loc[i, \"trestbps\"] <= 179:\n",
    "    datos.loc[i, \"trestbps\"] = 4\n",
    "  else:\n",
    "    datos.loc[i, \"trestbps\"] = 5\n",
    "    \n",
    "for i in range(0,297):\n",
    "  if datos_iniciales.loc[i, \"chol\"] <= 200:\n",
    "    datos.loc[i, \"chol\"] = 1\n",
    "  elif datos_iniciales.loc[i, \"chol\"] > 200 and datos_iniciales.loc[i, \"chol\"] < 240:\n",
    "    datos.loc[i, \"chol\"] = 2\n",
    "  else:\n",
    "    datos.loc[i, \"chol\"] = 3\n",
    "    \n",
    "for i in range(0,297):\n",
    "  if datos_iniciales.loc[i, \"thalach\"] <= 120:\n",
    "    datos.loc[i, \"thalach\"] = 1\n",
    "  elif datos_iniciales.loc[i, \"thalach\"] > 120 and datos_iniciales.loc[i, \"thalach\"] <= 140:\n",
    "    datos.loc[i, \"thalach\"] = 2\n",
    "  elif datos_iniciales.loc[i, \"thalach\"] > 140 and datos_iniciales.loc[i, \"thalach\"] < 160:\n",
    "    datos.loc[i, \"thalach\"] = 3\n",
    "  else:\n",
    "    datos.loc[i, \"thalach\"] = 4\n",
    "    \n",
    "for i in range(0,297):\n",
    "  if datos_iniciales.loc[i, \"oldpeak\"] <= 1:\n",
    "    datos.loc[i, \"oldpeak\"] = 1\n",
    "  elif datos_iniciales.loc[i, \"oldpeak\"] > 1 and datos_iniciales.loc[i, \"oldpeak\"] <= 2:\n",
    "    datos.loc[i, \"oldpeak\"] = 2\n",
    "  else:\n",
    "    datos.loc[i, \"oldpeak\"] = 3\n",
    "\n",
    "#USAR SOLO EL 80% DE LOS DATOS, PARA QUE SIRVAN COMO ENTRENAMIENTO, LO DEMÁS SE USARÁ COMO TEST\n",
    "sep = int(0.8*len(datos))\n",
    "datos_train = datos[:sep]\n",
    "print(datos_train.head(10))\n"
   ]
  },
  {
   "cell_type": "code",
   "execution_count": 29,
   "id": "9361b3b3",
   "metadata": {},
   "outputs": [
    {
     "name": "stdout",
     "output_type": "stream",
     "text": [
      "237\n"
     ]
    }
   ],
   "source": [
    "print(sep)"
   ]
  },
  {
   "cell_type": "code",
   "execution_count": 30,
   "id": "96bfeb5c",
   "metadata": {},
   "outputs": [
    {
     "name": "stdout",
     "output_type": "stream",
     "text": [
      "     age  sex   cp  trestbps  chol  fbs  restecg  thalach  exang  oldpeak  \\\n",
      "238  2.0  0.0  2.0       2.0   3.0  0.0      0.0      4.0    0.0      1.0   \n",
      "239  2.0  0.0  4.0       2.0   3.0  0.0      0.0      4.0    0.0      1.0   \n",
      "240  4.0  1.0  1.0       2.0   2.0  0.0      0.0      3.0    0.0      3.0   \n",
      "241  3.0  0.0  3.0       1.0   1.0  1.0      0.0      1.0    0.0      1.0   \n",
      "242  4.0  1.0  4.0       1.0   2.0  0.0      0.0      1.0    0.0      1.0   \n",
      "243  3.0  1.0  4.0       1.0   2.0  0.0      0.0      3.0    0.0      1.0   \n",
      "244  2.0  1.0  4.0       1.0   3.0  0.0      2.0      1.0    1.0      1.0   \n",
      "245  3.0  1.0  4.0       2.0   2.0  0.0      0.0      4.0    0.0      1.0   \n",
      "246  4.0  1.0  2.0       2.0   2.0  1.0      2.0      2.0    0.0      1.0   \n",
      "247  3.0  1.0  4.0       1.0   2.0  0.0      0.0      2.0    1.0      2.0   \n",
      "\n",
      "     slope   ca  thal  num  \n",
      "238    1.0  0.0   3.0    0  \n",
      "239    1.0  0.0   3.0    0  \n",
      "240    2.0  2.0   3.0    2  \n",
      "241    1.0  0.0   3.0    0  \n",
      "242    2.0  0.0   3.0    2  \n",
      "243    1.0  1.0   7.0    2  \n",
      "244    2.0  1.0   3.0    1  \n",
      "245    1.0  2.0   7.0    3  \n",
      "246    1.0  0.0   3.0    0  \n",
      "247    2.0  0.0   6.0    0  \n"
     ]
    }
   ],
   "source": [
    "datos_prueba = datos[sep+1:]\n",
    "print(datos_prueba.head(10))"
   ]
  },
  {
   "cell_type": "markdown",
   "id": "554fc48d",
   "metadata": {},
   "source": [
    "Transforme las variables de la siguiente manera"
   ]
  },
  {
   "cell_type": "code",
   "execution_count": 5,
   "id": "47116525",
   "metadata": {},
   "outputs": [
    {
     "name": "stdout",
     "output_type": "stream",
     "text": [
      "                 age                sex                 cp           trestbps  \\\n",
      "0  C: +3.00 to +4.00  A: +0.00 to +1.00  A: +1.00 to +3.00  B: +2.00 to +3.00   \n",
      "1  C: +3.00 to +4.00  A: +0.00 to +1.00  B: +3.00 to +4.00  C: +3.00 to +5.00   \n",
      "2  C: +3.00 to +4.00  A: +0.00 to +1.00  B: +3.00 to +4.00  A: +1.00 to +2.00   \n",
      "3  A: +1.00 to +3.00  A: +0.00 to +1.00  A: +1.00 to +3.00  A: +1.00 to +2.00   \n",
      "4  A: +1.00 to +3.00  A: +0.00 to +1.00  A: +1.00 to +3.00  A: +1.00 to +2.00   \n",
      "5  A: +1.00 to +3.00  A: +0.00 to +1.00  A: +1.00 to +3.00  A: +1.00 to +2.00   \n",
      "6  C: +3.00 to +4.00  A: +0.00 to +1.00  B: +3.00 to +4.00  B: +2.00 to +3.00   \n",
      "7  A: +1.00 to +3.00  A: +0.00 to +1.00  B: +3.00 to +4.00  A: +1.00 to +2.00   \n",
      "8  C: +3.00 to +4.00  A: +0.00 to +1.00  B: +3.00 to +4.00  A: +1.00 to +2.00   \n",
      "9  A: +1.00 to +3.00  A: +0.00 to +1.00  B: +3.00 to +4.00  B: +2.00 to +3.00   \n",
      "\n",
      "                chol                fbs            restecg            thalach  \\\n",
      "0  A: +1.00 to +2.00  C: +0.00 to +1.00  B: +0.00 to +2.00  A: +1.00 to +3.00   \n",
      "1  B: +2.00 to +3.00  A: +0.00 to +0.00  B: +0.00 to +2.00  A: +1.00 to +3.00   \n",
      "2  A: +1.00 to +2.00  A: +0.00 to +0.00  B: +0.00 to +2.00  A: +1.00 to +3.00   \n",
      "3  B: +2.00 to +3.00  A: +0.00 to +0.00  A: +0.00 to +0.00  B: +3.00 to +4.00   \n",
      "4  A: +1.00 to +2.00  A: +0.00 to +0.00  B: +0.00 to +2.00  B: +3.00 to +4.00   \n",
      "5  A: +1.00 to +2.00  A: +0.00 to +0.00  A: +0.00 to +0.00  B: +3.00 to +4.00   \n",
      "6  B: +2.00 to +3.00  A: +0.00 to +0.00  B: +0.00 to +2.00  B: +3.00 to +4.00   \n",
      "7  B: +2.00 to +3.00  A: +0.00 to +0.00  A: +0.00 to +0.00  B: +3.00 to +4.00   \n",
      "8  B: +2.00 to +3.00  A: +0.00 to +0.00  B: +0.00 to +2.00  A: +1.00 to +3.00   \n",
      "9  A: +1.00 to +2.00  C: +0.00 to +1.00  B: +0.00 to +2.00  A: +1.00 to +3.00   \n",
      "\n",
      "               exang            oldpeak              slope                 ca  \\\n",
      "0  A: +0.00 to +0.00  C: +2.00 to +3.00  C: +2.00 to +3.00  A: +0.00 to +0.00   \n",
      "1  B: +0.00 to +1.00  B: +1.00 to +2.00  B: +1.00 to +2.00  C: +1.00 to +3.00   \n",
      "2  B: +0.00 to +1.00  C: +2.00 to +3.00  B: +1.00 to +2.00  C: +1.00 to +3.00   \n",
      "3  A: +0.00 to +0.00  C: +2.00 to +3.00  C: +2.00 to +3.00  A: +0.00 to +0.00   \n",
      "4  A: +0.00 to +0.00  B: +1.00 to +2.00  A: +1.00 to +1.00  A: +0.00 to +0.00   \n",
      "5  A: +0.00 to +0.00  A: +1.00 to +1.00  A: +1.00 to +1.00  A: +0.00 to +0.00   \n",
      "6  A: +0.00 to +0.00  C: +2.00 to +3.00  C: +2.00 to +3.00  C: +1.00 to +3.00   \n",
      "7  B: +0.00 to +1.00  A: +1.00 to +1.00  A: +1.00 to +1.00  A: +0.00 to +0.00   \n",
      "8  A: +0.00 to +0.00  B: +1.00 to +2.00  B: +1.00 to +2.00  B: +0.00 to +1.00   \n",
      "9  B: +0.00 to +1.00  C: +2.00 to +3.00  C: +2.00 to +3.00  A: +0.00 to +0.00   \n",
      "\n",
      "                thal                num  \n",
      "0  B: +3.00 to +7.00  A: +0.00 to +0.00  \n",
      "1  A: +3.00 to +3.00  C: +1.00 to +4.00  \n",
      "2  B: +3.00 to +7.00  B: +0.00 to +1.00  \n",
      "3  A: +3.00 to +3.00  A: +0.00 to +0.00  \n",
      "4  A: +3.00 to +3.00  A: +0.00 to +0.00  \n",
      "5  A: +3.00 to +3.00  A: +0.00 to +0.00  \n",
      "6  A: +3.00 to +3.00  C: +1.00 to +4.00  \n",
      "7  A: +3.00 to +3.00  A: +0.00 to +0.00  \n",
      "8  B: +3.00 to +7.00  C: +1.00 to +4.00  \n",
      "9  B: +3.00 to +7.00  B: +0.00 to +1.00  \n"
     ]
    },
    {
     "name": "stderr",
     "output_type": "stream",
     "text": [
      "<>:26: SyntaxWarning: \"is not\" with a literal. Did you mean \"!=\"?\n",
      "<>:26: SyntaxWarning: \"is not\" with a literal. Did you mean \"!=\"?\n",
      "<ipython-input-5-bf97ec38afae>:26: SyntaxWarning: \"is not\" with a literal. Did you mean \"!=\"?\n",
      "  if index is not 0:\n"
     ]
    }
   ],
   "source": [
    "TIERS_NUM = 3\n",
    "\n",
    "def boundary_str(start, end, tier):\n",
    "    return f'{tier}: {start:+0,.2f} to {end:+0,.2f}'\n",
    "\n",
    "def relabel_value(v, boundaries):\n",
    "    if v >= boundaries[0][0] and v <= boundaries[0][1]:\n",
    "        return boundary_str(boundaries[0][0], boundaries[0][1], tier='A')\n",
    "    elif v >= boundaries[1][0] and v <= boundaries[1][1]: \n",
    "        return boundary_str(boundaries[1][0], boundaries[1][1], tier='B')\n",
    "    elif v >= boundaries[2][0] and v <= boundaries[2][1]:\n",
    "        return boundary_str(boundaries[2][0], boundaries[2][1], tier='C')\n",
    "    else:\n",
    "        return np.nan\n",
    "\n",
    "def relabel(values, boundaries):\n",
    "    result = []\n",
    "    for v in values:\n",
    "        result.append(relabel_value(v, boundaries))\n",
    "    return result\n",
    "        \n",
    "def get_boundaries(tiers):\n",
    "    prev_tier = tiers[0]\n",
    "    boundaries = [(prev_tier[0], prev_tier[prev_tier.shape[0] - 1])]\n",
    "    for index, tier in enumerate(tiers):\n",
    "        if index is not 0:\n",
    "            boundaries.append((prev_tier[prev_tier.shape[0] - 1], tier[tier.shape[0] - 1]))\n",
    "            prev_tier = tier\n",
    "    return boundaries\n",
    "    \n",
    "new_columns = {}\n",
    "for i, content in enumerate(datos_train.items()):  \n",
    "    (label, series) = content\n",
    "    values = np.sort(np.array([x for x in series.tolist() if not np.isnan(x)] , dtype=float))\n",
    "    if values.shape[0] < TIERS_NUM:\n",
    "        print(f'Error: there are not enough data for label {label}')\n",
    "        break\n",
    "    boundaries = get_boundaries(tiers=np.array_split(values, TIERS_NUM)) \n",
    "    new_columns[label] = relabel(series.tolist(), boundaries)\n",
    "    \n",
    "df = DataFrame(data=new_columns)\n",
    "#df.columns = nodes\n",
    "#df.index = range(years[\"min\"], years[\"max\"] + 1)\n",
    "print(df.head(10))"
   ]
  },
  {
   "cell_type": "markdown",
   "id": "7de57558",
   "metadata": {},
   "source": [
    "Estime la estructura del modelo usando el método por restricciones"
   ]
  },
  {
   "cell_type": "code",
   "execution_count": 8,
   "id": "18e78869",
   "metadata": {},
   "outputs": [
    {
     "data": {
      "application/vnd.jupyter.widget-view+json": {
       "model_id": "1fbf1f1ba7084ec2b7356f55de96ef5b",
       "version_major": 2,
       "version_minor": 0
      },
      "text/plain": [
       "  0%|          | 0/4 [00:00<?, ?it/s]"
      ]
     },
     "metadata": {},
     "output_type": "display_data"
    },
    {
     "name": "stdout",
     "output_type": "stream",
     "text": [
      "\n",
      "['age', 'ca', 'cp', 'num', 'thal', 'exang', 'oldpeak', 'slope']\n",
      "[('age', 'ca'), ('cp', 'num'), ('thal', 'num'), ('exang', 'cp'), ('slope', 'oldpeak')]\n"
     ]
    }
   ],
   "source": [
    "from pgmpy.estimators import PC\n",
    "est = PC(data=df)\n",
    "\n",
    "estimated_model = est.estimate(variant=\"stable\", max_cond_vars=4)\n",
    "print(estimated_model)\n",
    "print(estimated_model.nodes())\n",
    "print(estimated_model.edges())"
   ]
  },
  {
   "cell_type": "markdown",
   "id": "12147d69",
   "metadata": {},
   "source": [
    "Se convierte el objeto DAG obtenido con el anterior procedimiento a una red bayesiana y se usa el estimador de máxima verosimilitud para estimar los parámetros de la red."
   ]
  },
  {
   "cell_type": "code",
   "execution_count": 9,
   "id": "a780e20e",
   "metadata": {},
   "outputs": [
    {
     "name": "stdout",
     "output_type": "stream",
     "text": [
      "+------------------------+----------+\n",
      "| age(A: +1.00 to +3.00) | 0.742616 |\n",
      "+------------------------+----------+\n",
      "| age(C: +3.00 to +4.00) | 0.257384 |\n",
      "+------------------------+----------+\n",
      "+-----------------------+------------------------+------------------------+\n",
      "| age                   | age(A: +1.00 to +3.00) | age(C: +3.00 to +4.00) |\n",
      "+-----------------------+------------------------+------------------------+\n",
      "| ca(A: +0.00 to +0.00) | 0.6704545454545454     | 0.36065573770491804    |\n",
      "+-----------------------+------------------------+------------------------+\n",
      "| ca(B: +0.00 to +1.00) | 0.19886363636363635    | 0.2459016393442623     |\n",
      "+-----------------------+------------------------+------------------------+\n",
      "| ca(C: +1.00 to +3.00) | 0.13068181818181818    | 0.39344262295081966    |\n",
      "+-----------------------+------------------------+------------------------+\n",
      "+-----------------------+--------------------------+--------------------------+\n",
      "| exang                 | exang(A: +0.00 to +0.00) | exang(B: +0.00 to +1.00) |\n",
      "+-----------------------+--------------------------+--------------------------+\n",
      "| cp(A: +1.00 to +3.00) | 0.6838709677419355       | 0.23170731707317074      |\n",
      "+-----------------------+--------------------------+--------------------------+\n",
      "| cp(B: +3.00 to +4.00) | 0.3161290322580645       | 0.7682926829268293       |\n",
      "+-----------------------+--------------------------+--------------------------+\n",
      "+------------------------+-------------------------+-----+-------------------------+-------------------------+\n",
      "| cp                     | cp(A: +1.00 to +3.00)   | ... | cp(B: +3.00 to +4.00)   | cp(B: +3.00 to +4.00)   |\n",
      "+------------------------+-------------------------+-----+-------------------------+-------------------------+\n",
      "| thal                   | thal(A: +3.00 to +3.00) | ... | thal(A: +3.00 to +3.00) | thal(B: +3.00 to +7.00) |\n",
      "+------------------------+-------------------------+-----+-------------------------+-------------------------+\n",
      "| num(A: +0.00 to +0.00) | 0.9080459770114943      | ... | 0.5454545454545454      | 0.10294117647058823     |\n",
      "+------------------------+-------------------------+-----+-------------------------+-------------------------+\n",
      "| num(B: +0.00 to +1.00) | 0.09195402298850575     | ... | 0.20454545454545456     | 0.27941176470588236     |\n",
      "+------------------------+-------------------------+-----+-------------------------+-------------------------+\n",
      "| num(C: +1.00 to +4.00) | 0.0                     | ... | 0.25                    | 0.6176470588235294      |\n",
      "+------------------------+-------------------------+-----+-------------------------+-------------------------+\n",
      "+-------------------------+----------+\n",
      "| thal(A: +3.00 to +3.00) | 0.552743 |\n",
      "+-------------------------+----------+\n",
      "| thal(B: +3.00 to +7.00) | 0.447257 |\n",
      "+-------------------------+----------+\n",
      "+--------------------------+----------+\n",
      "| exang(A: +0.00 to +0.00) | 0.654008 |\n",
      "+--------------------------+----------+\n",
      "| exang(B: +0.00 to +1.00) | 0.345992 |\n",
      "+--------------------------+----------+\n",
      "+----------------------------+--------------------------+--------------------------+--------------------------+\n",
      "| slope                      | slope(A: +1.00 to +1.00) | slope(B: +1.00 to +2.00) | slope(C: +2.00 to +3.00) |\n",
      "+----------------------------+--------------------------+--------------------------+--------------------------+\n",
      "| oldpeak(A: +1.00 to +1.00) | 0.8392857142857143       | 0.3644859813084112       | 0.16666666666666666      |\n",
      "+----------------------------+--------------------------+--------------------------+--------------------------+\n",
      "| oldpeak(B: +1.00 to +2.00) | 0.15178571428571427      | 0.38317757009345793      | 0.16666666666666666      |\n",
      "+----------------------------+--------------------------+--------------------------+--------------------------+\n",
      "| oldpeak(C: +2.00 to +3.00) | 0.008928571428571428     | 0.2523364485981308       | 0.6666666666666666       |\n",
      "+----------------------------+--------------------------+--------------------------+--------------------------+\n",
      "+--------------------------+-----------+\n",
      "| slope(A: +1.00 to +1.00) | 0.472574  |\n",
      "+--------------------------+-----------+\n",
      "| slope(B: +1.00 to +2.00) | 0.451477  |\n",
      "+--------------------------+-----------+\n",
      "| slope(C: +2.00 to +3.00) | 0.0759494 |\n",
      "+--------------------------+-----------+\n"
     ]
    }
   ],
   "source": [
    "from pgmpy.models import BayesianNetwork\n",
    "from pgmpy.estimators import MaximumLikelihoodEstimator\n",
    "\n",
    "estimated_model = BayesianNetwork(estimated_model)\n",
    "estimated_model.fit(data=df, estimator = MaximumLikelihoodEstimator) \n",
    "for i in estimated_model.nodes():\n",
    "    print(estimated_model.get_cpds(i))"
   ]
  },
  {
   "cell_type": "markdown",
   "id": "590ad33a",
   "metadata": {},
   "source": [
    "## Estime la estructura del modelo usando el método por puntajes"
   ]
  },
  {
   "cell_type": "code",
   "execution_count": 16,
   "id": "949be6f2",
   "metadata": {},
   "outputs": [
    {
     "data": {
      "application/vnd.jupyter.widget-view+json": {
       "model_id": "b2181f9db4d24b3cb14221c16e1fff3a",
       "version_major": 2,
       "version_minor": 0
      },
      "text/plain": [
       "  0%|          | 0/10000 [00:00<?, ?it/s]"
      ]
     },
     "metadata": {},
     "output_type": "display_data"
    },
    {
     "name": "stdout",
     "output_type": "stream",
     "text": [
      "\n",
      "['age', 'sex', 'cp', 'trestbps', 'chol', 'fbs', 'restecg', 'thalach', 'exang', 'oldpeak', 'slope', 'ca', 'thal', 'num']\n",
      "[('age', 'ca'), ('age', 'thalach'), ('age', 'chol'), ('cp', 'exang'), ('cp', 'restecg'), ('trestbps', 'age'), ('restecg', 'chol'), ('thalach', 'restecg'), ('exang', 'thalach'), ('oldpeak', 'restecg'), ('slope', 'oldpeak'), ('slope', 'thalach'), ('ca', 'num'), ('num', 'thal'), ('num', 'cp'), ('num', 'exang'), ('num', 'slope'), ('num', 'oldpeak')]\n"
     ]
    }
   ],
   "source": [
    "from pgmpy.estimators import HillClimbSearch\n",
    "from pgmpy.estimators import K2Score\n",
    "\n",
    "scoring_method = K2Score(data=df)\n",
    "esth = HillClimbSearch(data=df)\n",
    "estimated_modelK2 = esth.estimate(\n",
    "    scoring_method=scoring_method, max_indegree=4, max_iter=int(1e4)\n",
    ")\n",
    "print(estimated_modelK2)\n",
    "print(estimated_modelK2.nodes())\n",
    "print(estimated_modelK2.edges())"
   ]
  },
  {
   "cell_type": "markdown",
   "id": "dede34d1",
   "metadata": {},
   "source": [
    "Se imprime el resultado del puntaje obtenido"
   ]
  },
  {
   "cell_type": "code",
   "execution_count": 18,
   "id": "198622a1",
   "metadata": {},
   "outputs": [
    {
     "name": "stdout",
     "output_type": "stream",
     "text": [
      "-2133.9431469792644\n"
     ]
    }
   ],
   "source": [
    "print(scoring_method.score(estimated_modelK2))"
   ]
  },
  {
   "cell_type": "markdown",
   "id": "ee71826f",
   "metadata": {},
   "source": [
    "### El procedimiento anterior usando el punta BIC"
   ]
  },
  {
   "cell_type": "code",
   "execution_count": 15,
   "id": "1bec6985",
   "metadata": {},
   "outputs": [
    {
     "data": {
      "application/vnd.jupyter.widget-view+json": {
       "model_id": "4869a1fc54ae451f8387ef2ab17b1bfb",
       "version_major": 2,
       "version_minor": 0
      },
      "text/plain": [
       "  0%|          | 0/10000 [00:00<?, ?it/s]"
      ]
     },
     "metadata": {},
     "output_type": "display_data"
    },
    {
     "name": "stdout",
     "output_type": "stream",
     "text": [
      "\n",
      "['age', 'sex', 'cp', 'trestbps', 'chol', 'fbs', 'restecg', 'thalach', 'exang', 'oldpeak', 'slope', 'ca', 'thal', 'num']\n",
      "[('age', 'chol'), ('cp', 'exang'), ('chol', 'restecg'), ('exang', 'thalach'), ('slope', 'oldpeak'), ('slope', 'thalach'), ('ca', 'age'), ('thal', 'num'), ('num', 'cp'), ('num', 'ca'), ('num', 'slope'), ('num', 'exang')]\n"
     ]
    }
   ],
   "source": [
    "from pgmpy.estimators import BicScore\n",
    "\n",
    "scoring_method = BicScore(data=df)\n",
    "esth = HillClimbSearch(data=df)\n",
    "estimated_modelBic = esth.estimate(\n",
    "    scoring_method=scoring_method, max_indegree=4, max_iter=int(1e4)\n",
    ")\n",
    "print(estimated_modelBic)\n",
    "print(estimated_modelBic.nodes())\n",
    "print(estimated_modelBic.edges())"
   ]
  },
  {
   "cell_type": "markdown",
   "id": "2be17f1c",
   "metadata": {},
   "source": [
    "Se imprime el resultado del puntaje obtenido"
   ]
  },
  {
   "cell_type": "code",
   "execution_count": 19,
   "id": "1802f76c",
   "metadata": {},
   "outputs": [
    {
     "name": "stdout",
     "output_type": "stream",
     "text": [
      "-2142.3546863442734\n"
     ]
    }
   ],
   "source": [
    "print(scoring_method.score(estimated_modelBic))"
   ]
  },
  {
   "cell_type": "markdown",
   "id": "f51a2965",
   "metadata": {},
   "source": [
    "### Predicción"
   ]
  },
  {
   "cell_type": "code",
   "execution_count": 50,
   "id": "b8795326",
   "metadata": {},
   "outputs": [],
   "source": [
    "# Importar librerías necesarias\n",
    "from pgmpy.inference import VariableElimination"
   ]
  },
  {
   "cell_type": "code",
   "execution_count": 52,
   "id": "f542fcd4",
   "metadata": {},
   "outputs": [
    {
     "name": "stdout",
     "output_type": "stream",
     "text": [
      "RangeIndex(start=238, stop=297, step=1)\n"
     ]
    }
   ],
   "source": [
    "print(nueva_base.index)"
   ]
  },
  {
   "cell_type": "code",
   "execution_count": 53,
   "id": "a45b6335",
   "metadata": {},
   "outputs": [
    {
     "name": "stdout",
     "output_type": "stream",
     "text": [
      "range(0, 59)\n"
     ]
    }
   ],
   "source": [
    "print(range(len(nueva_base.index)))"
   ]
  },
  {
   "cell_type": "code",
   "execution_count": 59,
   "id": "08b5bddf",
   "metadata": {},
   "outputs": [
    {
     "name": "stdout",
     "output_type": "stream",
     "text": [
      "238\n",
      "239\n",
      "240\n",
      "241\n",
      "242\n",
      "243\n",
      "244\n",
      "245\n",
      "246\n",
      "247\n",
      "248\n",
      "249\n",
      "250\n",
      "251\n",
      "252\n",
      "253\n",
      "254\n",
      "255\n",
      "256\n",
      "257\n",
      "258\n",
      "259\n",
      "260\n",
      "261\n",
      "262\n",
      "263\n",
      "264\n",
      "265\n",
      "266\n",
      "267\n",
      "268\n",
      "269\n",
      "270\n",
      "271\n",
      "272\n",
      "273\n",
      "274\n",
      "275\n",
      "276\n",
      "277\n",
      "278\n",
      "279\n",
      "280\n",
      "281\n",
      "282\n",
      "283\n",
      "284\n",
      "285\n",
      "286\n",
      "287\n",
      "288\n",
      "289\n",
      "290\n",
      "291\n",
      "292\n",
      "293\n",
      "294\n",
      "295\n",
      "296\n"
     ]
    }
   ],
   "source": [
    "for i in nueva_base.index:\n",
    "    print(i)"
   ]
  },
  {
   "cell_type": "code",
   "execution_count": 70,
   "id": "67030041",
   "metadata": {},
   "outputs": [
    {
     "name": "stdout",
     "output_type": "stream",
     "text": [
      "     age   ca   cp  num  thal  exang  oldpeak  slope\n",
      "238  2.0  0.0  2.0    0   3.0    0.0      1.0    1.0\n",
      "239  2.0  0.0  4.0    0   3.0    0.0      1.0    1.0\n",
      "240  4.0  2.0  1.0    2   3.0    0.0      3.0    2.0\n",
      "241  3.0  0.0  3.0    0   3.0    0.0      1.0    1.0\n",
      "242  4.0  0.0  4.0    2   3.0    0.0      1.0    2.0\n"
     ]
    }
   ],
   "source": [
    "# Crear una lista vacía para contener las variables del modelo\n",
    "variables_modelo = []\n",
    "\n",
    "# Recorrer cada variable del modelo y agregarla a la lista si está presente en la base de datos original\n",
    "for nodo in estimated_model.nodes():\n",
    "    if nodo in datos_prueba.columns:\n",
    "        variables_modelo.append(datos_prueba[nodo])\n",
    "\n",
    "# Concatenar todas las variables en una sola base de datos\n",
    "nueva_base = pd.concat(variables_modelo, axis=1)\n",
    "print(nueva_base.head())\n"
   ]
  },
  {
   "cell_type": "code",
   "execution_count": 80,
   "id": "bb9b15bb",
   "metadata": {},
   "outputs": [
    {
     "name": "stdout",
     "output_type": "stream",
     "text": [
      "{'C: +3.00 to +4.00', 'A: +1.00 to +3.00'}\n",
      "{1.0, 2.0, 3.0, 4.0}\n"
     ]
    }
   ],
   "source": [
    "sex_states = estimated_model.get_cpds(\"age\").state_names[\"age\"]\n",
    "sex_unique = nueva_base[\"age\"].unique()\n",
    "\n",
    "print(set(sex_states))\n",
    "print(set(sex_unique) - set(sex_states))\n"
   ]
  },
  {
   "cell_type": "code",
   "execution_count": 74,
   "id": "0df2532f",
   "metadata": {},
   "outputs": [
    {
     "ename": "KeyError",
     "evalue": "2.0",
     "output_type": "error",
     "traceback": [
      "\u001b[1;31m---------------------------------------------------------------------------\u001b[0m",
      "\u001b[1;31mKeyError\u001b[0m                                  Traceback (most recent call last)",
      "\u001b[1;32m<ipython-input-74-5968800f4e34>\u001b[0m in \u001b[0;36m<module>\u001b[1;34m\u001b[0m\n\u001b[0;32m      6\u001b[0m     \u001b[0mevidence\u001b[0m \u001b[1;33m=\u001b[0m \u001b[0mnueva_base\u001b[0m\u001b[1;33m.\u001b[0m\u001b[0mloc\u001b[0m\u001b[1;33m[\u001b[0m\u001b[0mi\u001b[0m\u001b[1;33m]\u001b[0m\u001b[1;33m.\u001b[0m\u001b[0mto_dict\u001b[0m\u001b[1;33m(\u001b[0m\u001b[1;33m)\u001b[0m\u001b[1;33m\u001b[0m\u001b[1;33m\u001b[0m\u001b[0m\n\u001b[0;32m      7\u001b[0m     \u001b[0mevidence\u001b[0m\u001b[1;33m.\u001b[0m\u001b[0mpop\u001b[0m\u001b[1;33m(\u001b[0m\u001b[1;34m'num'\u001b[0m\u001b[1;33m,\u001b[0m \u001b[1;32mNone\u001b[0m\u001b[1;33m)\u001b[0m  \u001b[1;31m# Elimina la clave 'num' del diccionario si está presente\u001b[0m\u001b[1;33m\u001b[0m\u001b[1;33m\u001b[0m\u001b[0m\n\u001b[1;32m----> 8\u001b[1;33m     \u001b[0mprediccion\u001b[0m \u001b[1;33m=\u001b[0m \u001b[0minfer\u001b[0m\u001b[1;33m.\u001b[0m\u001b[0mquery\u001b[0m\u001b[1;33m(\u001b[0m\u001b[1;33m[\u001b[0m\u001b[1;34m'num'\u001b[0m\u001b[1;33m]\u001b[0m\u001b[1;33m,\u001b[0m \u001b[0mevidence\u001b[0m\u001b[1;33m=\u001b[0m\u001b[0mevidence\u001b[0m\u001b[1;33m)\u001b[0m\u001b[1;33m\u001b[0m\u001b[1;33m\u001b[0m\u001b[0m\n\u001b[0m",
      "\u001b[1;32mE:\\1\\Anaconda\\lib\\site-packages\\pgmpy\\inference\\ExactInference.py\u001b[0m in \u001b[0;36mquery\u001b[1;34m(self, variables, evidence, virtual_evidence, elimination_order, joint, show_progress)\u001b[0m\n\u001b[0;32m    335\u001b[0m                 \u001b[0mindexer\u001b[0m \u001b[1;33m=\u001b[0m \u001b[1;33m[\u001b[0m\u001b[0mslice\u001b[0m\u001b[1;33m(\u001b[0m\u001b[1;32mNone\u001b[0m\u001b[1;33m)\u001b[0m\u001b[1;33m]\u001b[0m \u001b[1;33m*\u001b[0m \u001b[0mlen\u001b[0m\u001b[1;33m(\u001b[0m\u001b[0mphi\u001b[0m\u001b[1;33m.\u001b[0m\u001b[0mvariables\u001b[0m\u001b[1;33m)\u001b[0m\u001b[1;33m\u001b[0m\u001b[1;33m\u001b[0m\u001b[0m\n\u001b[0;32m    336\u001b[0m                 \u001b[1;32mfor\u001b[0m \u001b[0mindex\u001b[0m \u001b[1;32min\u001b[0m \u001b[0mindexes_to_reduce\u001b[0m\u001b[1;33m:\u001b[0m\u001b[1;33m\u001b[0m\u001b[1;33m\u001b[0m\u001b[0m\n\u001b[1;32m--> 337\u001b[1;33m                     indexer[index] = phi.get_state_no(\n\u001b[0m\u001b[0;32m    338\u001b[0m                         \u001b[0mphi\u001b[0m\u001b[1;33m.\u001b[0m\u001b[0mvariables\u001b[0m\u001b[1;33m[\u001b[0m\u001b[0mindex\u001b[0m\u001b[1;33m]\u001b[0m\u001b[1;33m,\u001b[0m \u001b[0mevidence\u001b[0m\u001b[1;33m[\u001b[0m\u001b[0mphi\u001b[0m\u001b[1;33m.\u001b[0m\u001b[0mvariables\u001b[0m\u001b[1;33m[\u001b[0m\u001b[0mindex\u001b[0m\u001b[1;33m]\u001b[0m\u001b[1;33m]\u001b[0m\u001b[1;33m\u001b[0m\u001b[1;33m\u001b[0m\u001b[0m\n\u001b[0;32m    339\u001b[0m                     )\n",
      "\u001b[1;32mE:\\1\\Anaconda\\lib\\site-packages\\pgmpy\\utils\\state_name.py\u001b[0m in \u001b[0;36mget_state_no\u001b[1;34m(self, var, state_name)\u001b[0m\n\u001b[0;32m     70\u001b[0m         \"\"\"\n\u001b[0;32m     71\u001b[0m         \u001b[1;32mif\u001b[0m \u001b[0mself\u001b[0m\u001b[1;33m.\u001b[0m\u001b[0mstate_names\u001b[0m\u001b[1;33m:\u001b[0m\u001b[1;33m\u001b[0m\u001b[1;33m\u001b[0m\u001b[0m\n\u001b[1;32m---> 72\u001b[1;33m             \u001b[1;32mreturn\u001b[0m \u001b[0mself\u001b[0m\u001b[1;33m.\u001b[0m\u001b[0mname_to_no\u001b[0m\u001b[1;33m[\u001b[0m\u001b[0mvar\u001b[0m\u001b[1;33m]\u001b[0m\u001b[1;33m[\u001b[0m\u001b[0mstate_name\u001b[0m\u001b[1;33m]\u001b[0m\u001b[1;33m\u001b[0m\u001b[1;33m\u001b[0m\u001b[0m\n\u001b[0m\u001b[0;32m     73\u001b[0m         \u001b[1;32melse\u001b[0m\u001b[1;33m:\u001b[0m\u001b[1;33m\u001b[0m\u001b[1;33m\u001b[0m\u001b[0m\n\u001b[0;32m     74\u001b[0m             \u001b[1;32mreturn\u001b[0m \u001b[0mstate_name\u001b[0m\u001b[1;33m\u001b[0m\u001b[1;33m\u001b[0m\u001b[0m\n",
      "\u001b[1;31mKeyError\u001b[0m: 2.0"
     ]
    }
   ],
   "source": [
    "# Crear un objeto de inferencia basado en el modelo entrenado\n",
    "infer = VariableElimination(estimated_model)\n",
    "\n",
    "# Calcular las predicciones para cada fila en los datos de prueba\n",
    "for i in (nueva_base.index):\n",
    "    evidence = nueva_base.loc[i].to_dict()\n",
    "    evidence.pop('num', None)  # Elimina la clave 'num' del diccionario si está presente\n",
    "    prediccion = infer.query(['num'], evidence=evidence)\n"
   ]
  },
  {
   "cell_type": "code",
   "execution_count": 45,
   "id": "9589602b",
   "metadata": {},
   "outputs": [
    {
     "data": {
      "text/plain": [
       "age         2.0\n",
       "sex         0.0\n",
       "cp          2.0\n",
       "trestbps    2.0\n",
       "chol        3.0\n",
       "fbs         0.0\n",
       "restecg     0.0\n",
       "thalach     4.0\n",
       "exang       0.0\n",
       "oldpeak     1.0\n",
       "slope       1.0\n",
       "ca          0.0\n",
       "thal        3.0\n",
       "num         0.0\n",
       "Name: 238, dtype: float64"
      ]
     },
     "execution_count": 45,
     "metadata": {},
     "output_type": "execute_result"
    }
   ],
   "source": [
    "datos_prueba.loc[238]"
   ]
  }
 ],
 "metadata": {
  "kernelspec": {
   "display_name": "Python 3",
   "language": "python",
   "name": "python3"
  },
  "language_info": {
   "codemirror_mode": {
    "name": "ipython",
    "version": 3
   },
   "file_extension": ".py",
   "mimetype": "text/x-python",
   "name": "python",
   "nbconvert_exporter": "python",
   "pygments_lexer": "ipython3",
   "version": "3.8.8"
  }
 },
 "nbformat": 4,
 "nbformat_minor": 5
}
